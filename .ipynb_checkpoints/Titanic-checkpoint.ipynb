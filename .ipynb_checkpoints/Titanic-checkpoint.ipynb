{
 "cells": [
  {
   "cell_type": "markdown",
   "metadata": {},
   "source": [
    "## Importing Data"
   ]
  },
  {
   "cell_type": "code",
   "execution_count": 67,
   "metadata": {},
   "outputs": [],
   "source": [
    "import pandas as pd"
   ]
  },
  {
   "cell_type": "code",
   "execution_count": 124,
   "metadata": {},
   "outputs": [],
   "source": [
    "main_df = pd.read_csv(\"train.csv\")\n",
    "final_df = pd.read_csv(\"test.csv\")"
   ]
  },
  {
   "cell_type": "code",
   "execution_count": 69,
   "metadata": {},
   "outputs": [
    {
     "data": {
      "text/html": [
       "<div>\n",
       "<style scoped>\n",
       "    .dataframe tbody tr th:only-of-type {\n",
       "        vertical-align: middle;\n",
       "    }\n",
       "\n",
       "    .dataframe tbody tr th {\n",
       "        vertical-align: top;\n",
       "    }\n",
       "\n",
       "    .dataframe thead th {\n",
       "        text-align: right;\n",
       "    }\n",
       "</style>\n",
       "<table border=\"1\" class=\"dataframe\">\n",
       "  <thead>\n",
       "    <tr style=\"text-align: right;\">\n",
       "      <th></th>\n",
       "      <th>PassengerId</th>\n",
       "      <th>Survived</th>\n",
       "      <th>Pclass</th>\n",
       "      <th>Name</th>\n",
       "      <th>Sex</th>\n",
       "      <th>Age</th>\n",
       "      <th>SibSp</th>\n",
       "      <th>Parch</th>\n",
       "      <th>Ticket</th>\n",
       "      <th>Fare</th>\n",
       "      <th>Cabin</th>\n",
       "      <th>Embarked</th>\n",
       "    </tr>\n",
       "  </thead>\n",
       "  <tbody>\n",
       "    <tr>\n",
       "      <th>0</th>\n",
       "      <td>1</td>\n",
       "      <td>0</td>\n",
       "      <td>3</td>\n",
       "      <td>Braund, Mr. Owen Harris</td>\n",
       "      <td>male</td>\n",
       "      <td>22.0</td>\n",
       "      <td>1</td>\n",
       "      <td>0</td>\n",
       "      <td>A/5 21171</td>\n",
       "      <td>7.2500</td>\n",
       "      <td>NaN</td>\n",
       "      <td>S</td>\n",
       "    </tr>\n",
       "    <tr>\n",
       "      <th>1</th>\n",
       "      <td>2</td>\n",
       "      <td>1</td>\n",
       "      <td>1</td>\n",
       "      <td>Cumings, Mrs. John Bradley (Florence Briggs Th...</td>\n",
       "      <td>female</td>\n",
       "      <td>38.0</td>\n",
       "      <td>1</td>\n",
       "      <td>0</td>\n",
       "      <td>PC 17599</td>\n",
       "      <td>71.2833</td>\n",
       "      <td>C85</td>\n",
       "      <td>C</td>\n",
       "    </tr>\n",
       "    <tr>\n",
       "      <th>2</th>\n",
       "      <td>3</td>\n",
       "      <td>1</td>\n",
       "      <td>3</td>\n",
       "      <td>Heikkinen, Miss. Laina</td>\n",
       "      <td>female</td>\n",
       "      <td>26.0</td>\n",
       "      <td>0</td>\n",
       "      <td>0</td>\n",
       "      <td>STON/O2. 3101282</td>\n",
       "      <td>7.9250</td>\n",
       "      <td>NaN</td>\n",
       "      <td>S</td>\n",
       "    </tr>\n",
       "    <tr>\n",
       "      <th>3</th>\n",
       "      <td>4</td>\n",
       "      <td>1</td>\n",
       "      <td>1</td>\n",
       "      <td>Futrelle, Mrs. Jacques Heath (Lily May Peel)</td>\n",
       "      <td>female</td>\n",
       "      <td>35.0</td>\n",
       "      <td>1</td>\n",
       "      <td>0</td>\n",
       "      <td>113803</td>\n",
       "      <td>53.1000</td>\n",
       "      <td>C123</td>\n",
       "      <td>S</td>\n",
       "    </tr>\n",
       "    <tr>\n",
       "      <th>4</th>\n",
       "      <td>5</td>\n",
       "      <td>0</td>\n",
       "      <td>3</td>\n",
       "      <td>Allen, Mr. William Henry</td>\n",
       "      <td>male</td>\n",
       "      <td>35.0</td>\n",
       "      <td>0</td>\n",
       "      <td>0</td>\n",
       "      <td>373450</td>\n",
       "      <td>8.0500</td>\n",
       "      <td>NaN</td>\n",
       "      <td>S</td>\n",
       "    </tr>\n",
       "    <tr>\n",
       "      <th>5</th>\n",
       "      <td>6</td>\n",
       "      <td>0</td>\n",
       "      <td>3</td>\n",
       "      <td>Moran, Mr. James</td>\n",
       "      <td>male</td>\n",
       "      <td>NaN</td>\n",
       "      <td>0</td>\n",
       "      <td>0</td>\n",
       "      <td>330877</td>\n",
       "      <td>8.4583</td>\n",
       "      <td>NaN</td>\n",
       "      <td>Q</td>\n",
       "    </tr>\n",
       "    <tr>\n",
       "      <th>6</th>\n",
       "      <td>7</td>\n",
       "      <td>0</td>\n",
       "      <td>1</td>\n",
       "      <td>McCarthy, Mr. Timothy J</td>\n",
       "      <td>male</td>\n",
       "      <td>54.0</td>\n",
       "      <td>0</td>\n",
       "      <td>0</td>\n",
       "      <td>17463</td>\n",
       "      <td>51.8625</td>\n",
       "      <td>E46</td>\n",
       "      <td>S</td>\n",
       "    </tr>\n",
       "    <tr>\n",
       "      <th>7</th>\n",
       "      <td>8</td>\n",
       "      <td>0</td>\n",
       "      <td>3</td>\n",
       "      <td>Palsson, Master. Gosta Leonard</td>\n",
       "      <td>male</td>\n",
       "      <td>2.0</td>\n",
       "      <td>3</td>\n",
       "      <td>1</td>\n",
       "      <td>349909</td>\n",
       "      <td>21.0750</td>\n",
       "      <td>NaN</td>\n",
       "      <td>S</td>\n",
       "    </tr>\n",
       "    <tr>\n",
       "      <th>8</th>\n",
       "      <td>9</td>\n",
       "      <td>1</td>\n",
       "      <td>3</td>\n",
       "      <td>Johnson, Mrs. Oscar W (Elisabeth Vilhelmina Berg)</td>\n",
       "      <td>female</td>\n",
       "      <td>27.0</td>\n",
       "      <td>0</td>\n",
       "      <td>2</td>\n",
       "      <td>347742</td>\n",
       "      <td>11.1333</td>\n",
       "      <td>NaN</td>\n",
       "      <td>S</td>\n",
       "    </tr>\n",
       "    <tr>\n",
       "      <th>9</th>\n",
       "      <td>10</td>\n",
       "      <td>1</td>\n",
       "      <td>2</td>\n",
       "      <td>Nasser, Mrs. Nicholas (Adele Achem)</td>\n",
       "      <td>female</td>\n",
       "      <td>14.0</td>\n",
       "      <td>1</td>\n",
       "      <td>0</td>\n",
       "      <td>237736</td>\n",
       "      <td>30.0708</td>\n",
       "      <td>NaN</td>\n",
       "      <td>C</td>\n",
       "    </tr>\n",
       "  </tbody>\n",
       "</table>\n",
       "</div>"
      ],
      "text/plain": [
       "   PassengerId  Survived  Pclass  \\\n",
       "0            1         0       3   \n",
       "1            2         1       1   \n",
       "2            3         1       3   \n",
       "3            4         1       1   \n",
       "4            5         0       3   \n",
       "5            6         0       3   \n",
       "6            7         0       1   \n",
       "7            8         0       3   \n",
       "8            9         1       3   \n",
       "9           10         1       2   \n",
       "\n",
       "                                                Name     Sex   Age  SibSp  \\\n",
       "0                            Braund, Mr. Owen Harris    male  22.0      1   \n",
       "1  Cumings, Mrs. John Bradley (Florence Briggs Th...  female  38.0      1   \n",
       "2                             Heikkinen, Miss. Laina  female  26.0      0   \n",
       "3       Futrelle, Mrs. Jacques Heath (Lily May Peel)  female  35.0      1   \n",
       "4                           Allen, Mr. William Henry    male  35.0      0   \n",
       "5                                   Moran, Mr. James    male   NaN      0   \n",
       "6                            McCarthy, Mr. Timothy J    male  54.0      0   \n",
       "7                     Palsson, Master. Gosta Leonard    male   2.0      3   \n",
       "8  Johnson, Mrs. Oscar W (Elisabeth Vilhelmina Berg)  female  27.0      0   \n",
       "9                Nasser, Mrs. Nicholas (Adele Achem)  female  14.0      1   \n",
       "\n",
       "   Parch            Ticket     Fare Cabin Embarked  \n",
       "0      0         A/5 21171   7.2500   NaN        S  \n",
       "1      0          PC 17599  71.2833   C85        C  \n",
       "2      0  STON/O2. 3101282   7.9250   NaN        S  \n",
       "3      0            113803  53.1000  C123        S  \n",
       "4      0            373450   8.0500   NaN        S  \n",
       "5      0            330877   8.4583   NaN        Q  \n",
       "6      0             17463  51.8625   E46        S  \n",
       "7      1            349909  21.0750   NaN        S  \n",
       "8      2            347742  11.1333   NaN        S  \n",
       "9      0            237736  30.0708   NaN        C  "
      ]
     },
     "execution_count": 69,
     "metadata": {},
     "output_type": "execute_result"
    }
   ],
   "source": [
    "main_df.head(10)"
   ]
  },
  {
   "cell_type": "code",
   "execution_count": 70,
   "metadata": {},
   "outputs": [
    {
     "data": {
      "text/html": [
       "<div>\n",
       "<style scoped>\n",
       "    .dataframe tbody tr th:only-of-type {\n",
       "        vertical-align: middle;\n",
       "    }\n",
       "\n",
       "    .dataframe tbody tr th {\n",
       "        vertical-align: top;\n",
       "    }\n",
       "\n",
       "    .dataframe thead th {\n",
       "        text-align: right;\n",
       "    }\n",
       "</style>\n",
       "<table border=\"1\" class=\"dataframe\">\n",
       "  <thead>\n",
       "    <tr style=\"text-align: right;\">\n",
       "      <th></th>\n",
       "      <th>PassengerId</th>\n",
       "      <th>Pclass</th>\n",
       "      <th>Name</th>\n",
       "      <th>Sex</th>\n",
       "      <th>Age</th>\n",
       "      <th>SibSp</th>\n",
       "      <th>Parch</th>\n",
       "      <th>Ticket</th>\n",
       "      <th>Fare</th>\n",
       "      <th>Cabin</th>\n",
       "      <th>Embarked</th>\n",
       "    </tr>\n",
       "  </thead>\n",
       "  <tbody>\n",
       "    <tr>\n",
       "      <th>0</th>\n",
       "      <td>892</td>\n",
       "      <td>3</td>\n",
       "      <td>Kelly, Mr. James</td>\n",
       "      <td>male</td>\n",
       "      <td>34.5</td>\n",
       "      <td>0</td>\n",
       "      <td>0</td>\n",
       "      <td>330911</td>\n",
       "      <td>7.8292</td>\n",
       "      <td>NaN</td>\n",
       "      <td>Q</td>\n",
       "    </tr>\n",
       "    <tr>\n",
       "      <th>1</th>\n",
       "      <td>893</td>\n",
       "      <td>3</td>\n",
       "      <td>Wilkes, Mrs. James (Ellen Needs)</td>\n",
       "      <td>female</td>\n",
       "      <td>47.0</td>\n",
       "      <td>1</td>\n",
       "      <td>0</td>\n",
       "      <td>363272</td>\n",
       "      <td>7.0000</td>\n",
       "      <td>NaN</td>\n",
       "      <td>S</td>\n",
       "    </tr>\n",
       "    <tr>\n",
       "      <th>2</th>\n",
       "      <td>894</td>\n",
       "      <td>2</td>\n",
       "      <td>Myles, Mr. Thomas Francis</td>\n",
       "      <td>male</td>\n",
       "      <td>62.0</td>\n",
       "      <td>0</td>\n",
       "      <td>0</td>\n",
       "      <td>240276</td>\n",
       "      <td>9.6875</td>\n",
       "      <td>NaN</td>\n",
       "      <td>Q</td>\n",
       "    </tr>\n",
       "    <tr>\n",
       "      <th>3</th>\n",
       "      <td>895</td>\n",
       "      <td>3</td>\n",
       "      <td>Wirz, Mr. Albert</td>\n",
       "      <td>male</td>\n",
       "      <td>27.0</td>\n",
       "      <td>0</td>\n",
       "      <td>0</td>\n",
       "      <td>315154</td>\n",
       "      <td>8.6625</td>\n",
       "      <td>NaN</td>\n",
       "      <td>S</td>\n",
       "    </tr>\n",
       "    <tr>\n",
       "      <th>4</th>\n",
       "      <td>896</td>\n",
       "      <td>3</td>\n",
       "      <td>Hirvonen, Mrs. Alexander (Helga E Lindqvist)</td>\n",
       "      <td>female</td>\n",
       "      <td>22.0</td>\n",
       "      <td>1</td>\n",
       "      <td>1</td>\n",
       "      <td>3101298</td>\n",
       "      <td>12.2875</td>\n",
       "      <td>NaN</td>\n",
       "      <td>S</td>\n",
       "    </tr>\n",
       "    <tr>\n",
       "      <th>5</th>\n",
       "      <td>897</td>\n",
       "      <td>3</td>\n",
       "      <td>Svensson, Mr. Johan Cervin</td>\n",
       "      <td>male</td>\n",
       "      <td>14.0</td>\n",
       "      <td>0</td>\n",
       "      <td>0</td>\n",
       "      <td>7538</td>\n",
       "      <td>9.2250</td>\n",
       "      <td>NaN</td>\n",
       "      <td>S</td>\n",
       "    </tr>\n",
       "    <tr>\n",
       "      <th>6</th>\n",
       "      <td>898</td>\n",
       "      <td>3</td>\n",
       "      <td>Connolly, Miss. Kate</td>\n",
       "      <td>female</td>\n",
       "      <td>30.0</td>\n",
       "      <td>0</td>\n",
       "      <td>0</td>\n",
       "      <td>330972</td>\n",
       "      <td>7.6292</td>\n",
       "      <td>NaN</td>\n",
       "      <td>Q</td>\n",
       "    </tr>\n",
       "    <tr>\n",
       "      <th>7</th>\n",
       "      <td>899</td>\n",
       "      <td>2</td>\n",
       "      <td>Caldwell, Mr. Albert Francis</td>\n",
       "      <td>male</td>\n",
       "      <td>26.0</td>\n",
       "      <td>1</td>\n",
       "      <td>1</td>\n",
       "      <td>248738</td>\n",
       "      <td>29.0000</td>\n",
       "      <td>NaN</td>\n",
       "      <td>S</td>\n",
       "    </tr>\n",
       "    <tr>\n",
       "      <th>8</th>\n",
       "      <td>900</td>\n",
       "      <td>3</td>\n",
       "      <td>Abrahim, Mrs. Joseph (Sophie Halaut Easu)</td>\n",
       "      <td>female</td>\n",
       "      <td>18.0</td>\n",
       "      <td>0</td>\n",
       "      <td>0</td>\n",
       "      <td>2657</td>\n",
       "      <td>7.2292</td>\n",
       "      <td>NaN</td>\n",
       "      <td>C</td>\n",
       "    </tr>\n",
       "    <tr>\n",
       "      <th>9</th>\n",
       "      <td>901</td>\n",
       "      <td>3</td>\n",
       "      <td>Davies, Mr. John Samuel</td>\n",
       "      <td>male</td>\n",
       "      <td>21.0</td>\n",
       "      <td>2</td>\n",
       "      <td>0</td>\n",
       "      <td>A/4 48871</td>\n",
       "      <td>24.1500</td>\n",
       "      <td>NaN</td>\n",
       "      <td>S</td>\n",
       "    </tr>\n",
       "  </tbody>\n",
       "</table>\n",
       "</div>"
      ],
      "text/plain": [
       "   PassengerId  Pclass                                          Name     Sex  \\\n",
       "0          892       3                              Kelly, Mr. James    male   \n",
       "1          893       3              Wilkes, Mrs. James (Ellen Needs)  female   \n",
       "2          894       2                     Myles, Mr. Thomas Francis    male   \n",
       "3          895       3                              Wirz, Mr. Albert    male   \n",
       "4          896       3  Hirvonen, Mrs. Alexander (Helga E Lindqvist)  female   \n",
       "5          897       3                    Svensson, Mr. Johan Cervin    male   \n",
       "6          898       3                          Connolly, Miss. Kate  female   \n",
       "7          899       2                  Caldwell, Mr. Albert Francis    male   \n",
       "8          900       3     Abrahim, Mrs. Joseph (Sophie Halaut Easu)  female   \n",
       "9          901       3                       Davies, Mr. John Samuel    male   \n",
       "\n",
       "    Age  SibSp  Parch     Ticket     Fare Cabin Embarked  \n",
       "0  34.5      0      0     330911   7.8292   NaN        Q  \n",
       "1  47.0      1      0     363272   7.0000   NaN        S  \n",
       "2  62.0      0      0     240276   9.6875   NaN        Q  \n",
       "3  27.0      0      0     315154   8.6625   NaN        S  \n",
       "4  22.0      1      1    3101298  12.2875   NaN        S  \n",
       "5  14.0      0      0       7538   9.2250   NaN        S  \n",
       "6  30.0      0      0     330972   7.6292   NaN        Q  \n",
       "7  26.0      1      1     248738  29.0000   NaN        S  \n",
       "8  18.0      0      0       2657   7.2292   NaN        C  \n",
       "9  21.0      2      0  A/4 48871  24.1500   NaN        S  "
      ]
     },
     "execution_count": 70,
     "metadata": {},
     "output_type": "execute_result"
    }
   ],
   "source": [
    "final_df.head(10)"
   ]
  },
  {
   "cell_type": "code",
   "execution_count": 71,
   "metadata": {},
   "outputs": [
    {
     "name": "stdout",
     "output_type": "stream",
     "text": [
      "<class 'pandas.core.frame.DataFrame'>\n",
      "RangeIndex: 891 entries, 0 to 890\n",
      "Data columns (total 12 columns):\n",
      "PassengerId    891 non-null int64\n",
      "Survived       891 non-null int64\n",
      "Pclass         891 non-null int64\n",
      "Name           891 non-null object\n",
      "Sex            891 non-null object\n",
      "Age            714 non-null float64\n",
      "SibSp          891 non-null int64\n",
      "Parch          891 non-null int64\n",
      "Ticket         891 non-null object\n",
      "Fare           891 non-null float64\n",
      "Cabin          204 non-null object\n",
      "Embarked       889 non-null object\n",
      "dtypes: float64(2), int64(5), object(5)\n",
      "memory usage: 83.6+ KB\n"
     ]
    }
   ],
   "source": [
    "main_df.info()"
   ]
  },
  {
   "cell_type": "code",
   "execution_count": 72,
   "metadata": {},
   "outputs": [
    {
     "data": {
      "text/html": [
       "<div>\n",
       "<style scoped>\n",
       "    .dataframe tbody tr th:only-of-type {\n",
       "        vertical-align: middle;\n",
       "    }\n",
       "\n",
       "    .dataframe tbody tr th {\n",
       "        vertical-align: top;\n",
       "    }\n",
       "\n",
       "    .dataframe thead th {\n",
       "        text-align: right;\n",
       "    }\n",
       "</style>\n",
       "<table border=\"1\" class=\"dataframe\">\n",
       "  <thead>\n",
       "    <tr style=\"text-align: right;\">\n",
       "      <th></th>\n",
       "      <th>PassengerId</th>\n",
       "      <th>Survived</th>\n",
       "      <th>Pclass</th>\n",
       "      <th>Age</th>\n",
       "      <th>SibSp</th>\n",
       "      <th>Parch</th>\n",
       "      <th>Fare</th>\n",
       "    </tr>\n",
       "  </thead>\n",
       "  <tbody>\n",
       "    <tr>\n",
       "      <th>count</th>\n",
       "      <td>891.000000</td>\n",
       "      <td>891.000000</td>\n",
       "      <td>891.000000</td>\n",
       "      <td>714.000000</td>\n",
       "      <td>891.000000</td>\n",
       "      <td>891.000000</td>\n",
       "      <td>891.000000</td>\n",
       "    </tr>\n",
       "    <tr>\n",
       "      <th>mean</th>\n",
       "      <td>446.000000</td>\n",
       "      <td>0.383838</td>\n",
       "      <td>2.308642</td>\n",
       "      <td>29.699118</td>\n",
       "      <td>0.523008</td>\n",
       "      <td>0.381594</td>\n",
       "      <td>32.204208</td>\n",
       "    </tr>\n",
       "    <tr>\n",
       "      <th>std</th>\n",
       "      <td>257.353842</td>\n",
       "      <td>0.486592</td>\n",
       "      <td>0.836071</td>\n",
       "      <td>14.526497</td>\n",
       "      <td>1.102743</td>\n",
       "      <td>0.806057</td>\n",
       "      <td>49.693429</td>\n",
       "    </tr>\n",
       "    <tr>\n",
       "      <th>min</th>\n",
       "      <td>1.000000</td>\n",
       "      <td>0.000000</td>\n",
       "      <td>1.000000</td>\n",
       "      <td>0.420000</td>\n",
       "      <td>0.000000</td>\n",
       "      <td>0.000000</td>\n",
       "      <td>0.000000</td>\n",
       "    </tr>\n",
       "    <tr>\n",
       "      <th>25%</th>\n",
       "      <td>223.500000</td>\n",
       "      <td>0.000000</td>\n",
       "      <td>2.000000</td>\n",
       "      <td>20.125000</td>\n",
       "      <td>0.000000</td>\n",
       "      <td>0.000000</td>\n",
       "      <td>7.910400</td>\n",
       "    </tr>\n",
       "    <tr>\n",
       "      <th>50%</th>\n",
       "      <td>446.000000</td>\n",
       "      <td>0.000000</td>\n",
       "      <td>3.000000</td>\n",
       "      <td>28.000000</td>\n",
       "      <td>0.000000</td>\n",
       "      <td>0.000000</td>\n",
       "      <td>14.454200</td>\n",
       "    </tr>\n",
       "    <tr>\n",
       "      <th>75%</th>\n",
       "      <td>668.500000</td>\n",
       "      <td>1.000000</td>\n",
       "      <td>3.000000</td>\n",
       "      <td>38.000000</td>\n",
       "      <td>1.000000</td>\n",
       "      <td>0.000000</td>\n",
       "      <td>31.000000</td>\n",
       "    </tr>\n",
       "    <tr>\n",
       "      <th>max</th>\n",
       "      <td>891.000000</td>\n",
       "      <td>1.000000</td>\n",
       "      <td>3.000000</td>\n",
       "      <td>80.000000</td>\n",
       "      <td>8.000000</td>\n",
       "      <td>6.000000</td>\n",
       "      <td>512.329200</td>\n",
       "    </tr>\n",
       "  </tbody>\n",
       "</table>\n",
       "</div>"
      ],
      "text/plain": [
       "       PassengerId    Survived      Pclass         Age       SibSp  \\\n",
       "count   891.000000  891.000000  891.000000  714.000000  891.000000   \n",
       "mean    446.000000    0.383838    2.308642   29.699118    0.523008   \n",
       "std     257.353842    0.486592    0.836071   14.526497    1.102743   \n",
       "min       1.000000    0.000000    1.000000    0.420000    0.000000   \n",
       "25%     223.500000    0.000000    2.000000   20.125000    0.000000   \n",
       "50%     446.000000    0.000000    3.000000   28.000000    0.000000   \n",
       "75%     668.500000    1.000000    3.000000   38.000000    1.000000   \n",
       "max     891.000000    1.000000    3.000000   80.000000    8.000000   \n",
       "\n",
       "            Parch        Fare  \n",
       "count  891.000000  891.000000  \n",
       "mean     0.381594   32.204208  \n",
       "std      0.806057   49.693429  \n",
       "min      0.000000    0.000000  \n",
       "25%      0.000000    7.910400  \n",
       "50%      0.000000   14.454200  \n",
       "75%      0.000000   31.000000  \n",
       "max      6.000000  512.329200  "
      ]
     },
     "execution_count": 72,
     "metadata": {},
     "output_type": "execute_result"
    }
   ],
   "source": [
    "main_df.describe()"
   ]
  },
  {
   "cell_type": "code",
   "execution_count": 73,
   "metadata": {},
   "outputs": [
    {
     "data": {
      "text/plain": [
       "count     889\n",
       "unique      3\n",
       "top         S\n",
       "freq      644\n",
       "Name: Embarked, dtype: object"
      ]
     },
     "execution_count": 73,
     "metadata": {},
     "output_type": "execute_result"
    }
   ],
   "source": [
    "main_df['Embarked'].describe() #Get the most common to fill out empty values"
   ]
  },
  {
   "cell_type": "code",
   "execution_count": 74,
   "metadata": {},
   "outputs": [
    {
     "data": {
      "text/plain": [
       "count                       891\n",
       "unique                      891\n",
       "top       Barbara, Miss. Saiide\n",
       "freq                          1\n",
       "Name: Name, dtype: object"
      ]
     },
     "execution_count": 74,
     "metadata": {},
     "output_type": "execute_result"
    }
   ],
   "source": [
    "main_df['Name'].describe() "
   ]
  },
  {
   "cell_type": "code",
   "execution_count": 75,
   "metadata": {},
   "outputs": [
    {
     "data": {
      "text/html": [
       "<div>\n",
       "<style scoped>\n",
       "    .dataframe tbody tr th:only-of-type {\n",
       "        vertical-align: middle;\n",
       "    }\n",
       "\n",
       "    .dataframe tbody tr th {\n",
       "        vertical-align: top;\n",
       "    }\n",
       "\n",
       "    .dataframe thead th {\n",
       "        text-align: right;\n",
       "    }\n",
       "</style>\n",
       "<table border=\"1\" class=\"dataframe\">\n",
       "  <thead>\n",
       "    <tr style=\"text-align: right;\">\n",
       "      <th></th>\n",
       "      <th>Age</th>\n",
       "      <th>Fare</th>\n",
       "      <th>Parch</th>\n",
       "      <th>PassengerId</th>\n",
       "      <th>Pclass</th>\n",
       "      <th>SibSp</th>\n",
       "      <th>Survived</th>\n",
       "    </tr>\n",
       "  </thead>\n",
       "  <tbody>\n",
       "    <tr>\n",
       "      <th>count</th>\n",
       "      <td>1046.000000</td>\n",
       "      <td>1308.000000</td>\n",
       "      <td>1309.000000</td>\n",
       "      <td>1309.000000</td>\n",
       "      <td>1309.000000</td>\n",
       "      <td>1309.000000</td>\n",
       "      <td>891.000000</td>\n",
       "    </tr>\n",
       "    <tr>\n",
       "      <th>mean</th>\n",
       "      <td>29.881138</td>\n",
       "      <td>33.295479</td>\n",
       "      <td>0.385027</td>\n",
       "      <td>655.000000</td>\n",
       "      <td>2.294882</td>\n",
       "      <td>0.498854</td>\n",
       "      <td>0.383838</td>\n",
       "    </tr>\n",
       "    <tr>\n",
       "      <th>std</th>\n",
       "      <td>14.413493</td>\n",
       "      <td>51.758668</td>\n",
       "      <td>0.865560</td>\n",
       "      <td>378.020061</td>\n",
       "      <td>0.837836</td>\n",
       "      <td>1.041658</td>\n",
       "      <td>0.486592</td>\n",
       "    </tr>\n",
       "    <tr>\n",
       "      <th>min</th>\n",
       "      <td>0.170000</td>\n",
       "      <td>0.000000</td>\n",
       "      <td>0.000000</td>\n",
       "      <td>1.000000</td>\n",
       "      <td>1.000000</td>\n",
       "      <td>0.000000</td>\n",
       "      <td>0.000000</td>\n",
       "    </tr>\n",
       "    <tr>\n",
       "      <th>25%</th>\n",
       "      <td>21.000000</td>\n",
       "      <td>7.895800</td>\n",
       "      <td>0.000000</td>\n",
       "      <td>328.000000</td>\n",
       "      <td>2.000000</td>\n",
       "      <td>0.000000</td>\n",
       "      <td>0.000000</td>\n",
       "    </tr>\n",
       "    <tr>\n",
       "      <th>50%</th>\n",
       "      <td>28.000000</td>\n",
       "      <td>14.454200</td>\n",
       "      <td>0.000000</td>\n",
       "      <td>655.000000</td>\n",
       "      <td>3.000000</td>\n",
       "      <td>0.000000</td>\n",
       "      <td>0.000000</td>\n",
       "    </tr>\n",
       "    <tr>\n",
       "      <th>75%</th>\n",
       "      <td>39.000000</td>\n",
       "      <td>31.275000</td>\n",
       "      <td>0.000000</td>\n",
       "      <td>982.000000</td>\n",
       "      <td>3.000000</td>\n",
       "      <td>1.000000</td>\n",
       "      <td>1.000000</td>\n",
       "    </tr>\n",
       "    <tr>\n",
       "      <th>max</th>\n",
       "      <td>80.000000</td>\n",
       "      <td>512.329200</td>\n",
       "      <td>9.000000</td>\n",
       "      <td>1309.000000</td>\n",
       "      <td>3.000000</td>\n",
       "      <td>8.000000</td>\n",
       "      <td>1.000000</td>\n",
       "    </tr>\n",
       "  </tbody>\n",
       "</table>\n",
       "</div>"
      ],
      "text/plain": [
       "               Age         Fare        Parch  PassengerId       Pclass  \\\n",
       "count  1046.000000  1308.000000  1309.000000  1309.000000  1309.000000   \n",
       "mean     29.881138    33.295479     0.385027   655.000000     2.294882   \n",
       "std      14.413493    51.758668     0.865560   378.020061     0.837836   \n",
       "min       0.170000     0.000000     0.000000     1.000000     1.000000   \n",
       "25%      21.000000     7.895800     0.000000   328.000000     2.000000   \n",
       "50%      28.000000    14.454200     0.000000   655.000000     3.000000   \n",
       "75%      39.000000    31.275000     0.000000   982.000000     3.000000   \n",
       "max      80.000000   512.329200     9.000000  1309.000000     3.000000   \n",
       "\n",
       "             SibSp    Survived  \n",
       "count  1309.000000  891.000000  \n",
       "mean      0.498854    0.383838  \n",
       "std       1.041658    0.486592  \n",
       "min       0.000000    0.000000  \n",
       "25%       0.000000    0.000000  \n",
       "50%       0.000000    0.000000  \n",
       "75%       1.000000    1.000000  \n",
       "max       8.000000    1.000000  "
      ]
     },
     "execution_count": 75,
     "metadata": {},
     "output_type": "execute_result"
    }
   ],
   "source": [
    "both_df = pd.concat([main_df, final_df])\n",
    "both_df.describe()"
   ]
  },
  {
   "cell_type": "code",
   "execution_count": 76,
   "metadata": {},
   "outputs": [
    {
     "data": {
      "text/plain": [
       "{'Capt': 15,\n",
       " 'Col': 14,\n",
       " 'Don': 5,\n",
       " 'Dona': 18,\n",
       " 'Dr': 7,\n",
       " 'Jonkheer': 17,\n",
       " 'Lady': 11,\n",
       " 'Major': 10,\n",
       " 'Master': 4,\n",
       " 'Miss': 3,\n",
       " 'Mlle': 13,\n",
       " 'Mme': 8,\n",
       " 'Mr': 1,\n",
       " 'Mrs': 2,\n",
       " 'Ms': 9,\n",
       " 'Rev': 6,\n",
       " 'Sir': 12,\n",
       " 'the Countess': 16}"
      ]
     },
     "execution_count": 76,
     "metadata": {},
     "output_type": "execute_result"
    }
   ],
   "source": [
    "names = {}\n",
    "counter = 1\n",
    "\n",
    "for item in both_df['Name']:\n",
    "    if item.split(\",\")[1].split(\".\")[0].strip(\" \") not in names:\n",
    "        names[item.split(\",\")[1].split(\".\")[0].strip(\" \")] = counter\n",
    "        counter += 1\n",
    "        \n",
    "names        "
   ]
  },
  {
   "cell_type": "code",
   "execution_count": 77,
   "metadata": {},
   "outputs": [
    {
     "data": {
      "text/plain": [
       "29.881137667304014"
      ]
     },
     "execution_count": 77,
     "metadata": {},
     "output_type": "execute_result"
    }
   ],
   "source": [
    "age_mean = both_df[\"Age\"].mean() # Get age from both datasets\n",
    "age_mean"
   ]
  },
  {
   "cell_type": "code",
   "execution_count": 78,
   "metadata": {},
   "outputs": [
    {
     "data": {
      "text/plain": [
       "{'Capt': 70.0,\n",
       " 'Col': 54.0,\n",
       " 'Don': 40.0,\n",
       " 'Dona': 39.0,\n",
       " 'Dr': 43.57142857142857,\n",
       " 'Jonkheer': 38.0,\n",
       " 'Lady': 48.0,\n",
       " 'Major': 48.5,\n",
       " 'Master': 5.482641509433963,\n",
       " 'Miss': 21.774238095238097,\n",
       " 'Mlle': 24.0,\n",
       " 'Mme': 24.0,\n",
       " 'Mr': 32.25215146299484,\n",
       " 'Mrs': 36.99411764705882,\n",
       " 'Ms': 28.0,\n",
       " 'Rev': 41.25,\n",
       " 'Sir': 49.0,\n",
       " 'the Countess': 33.0}"
      ]
     },
     "execution_count": 78,
     "metadata": {},
     "output_type": "execute_result"
    }
   ],
   "source": [
    "# Get average data from name title (don't know why, but the score with this is worse, so I disable it)\n",
    "\n",
    "age_by_name = {}\n",
    "counter = 0\n",
    "age = 0\n",
    "\n",
    "for name in names:\n",
    "    for n,item in enumerate(both_df['Name']):\n",
    "        if item.split(\",\")[1].split(\".\")[0].strip(\" \") == name:\n",
    "            if pd.notna(both_df.iloc[n]['Age']):\n",
    "                counter += 1\n",
    "                age += both_df.iloc[n]['Age']\n",
    "    age_by_name[name] = age/counter # Get the average\n",
    "    counter = 0\n",
    "    age = 0\n",
    "    \n",
    "age_by_name    "
   ]
  },
  {
   "cell_type": "code",
   "execution_count": 79,
   "metadata": {},
   "outputs": [
    {
     "data": {
      "text/plain": [
       "count             295\n",
       "unique            186\n",
       "top       C23 C25 C27\n",
       "freq                6\n",
       "Name: Cabin, dtype: object"
      ]
     },
     "execution_count": 79,
     "metadata": {},
     "output_type": "execute_result"
    }
   ],
   "source": [
    "both_df['Cabin'].describe() #decided not use it (the score get worse)"
   ]
  },
  {
   "cell_type": "code",
   "execution_count": 80,
   "metadata": {},
   "outputs": [
    {
     "data": {
      "text/plain": [
       "[nan, 'B69', 'C30', 'A36', 'C89', 'F E46', 'C91', 'E121', 'C32', 'B20']"
      ]
     },
     "execution_count": 80,
     "metadata": {},
     "output_type": "execute_result"
    }
   ],
   "source": [
    "list(set(both_df['Cabin']))[:10]"
   ]
  },
  {
   "cell_type": "code",
   "execution_count": 81,
   "metadata": {},
   "outputs": [
    {
     "data": {
      "text/plain": [
       "{'A': 3, 'B': 1, 'C': 2, 'D': 6, 'E': 5, 'F': 4, 'G': 8, 'T': 7}"
      ]
     },
     "execution_count": 81,
     "metadata": {},
     "output_type": "execute_result"
    }
   ],
   "source": [
    "deck_dict = {}\n",
    "counter = 1\n",
    "\n",
    "for item in set(both_df['Cabin']):\n",
    "    if not(pd.isna(item)) and item[0] not in deck_dict:\n",
    "        deck_dict[item[0]]=counter\n",
    "        counter += 1\n",
    "\n",
    "deck_dict"
   ]
  },
  {
   "cell_type": "code",
   "execution_count": 82,
   "metadata": {},
   "outputs": [
    {
     "data": {
      "text/plain": [
       "{14.205000000000002: 'G',\n",
       " 18.079366666666665: 'F',\n",
       " 35.5: 'T',\n",
       " 41.24431363636364: 'A',\n",
       " 53.00733913043479: 'D',\n",
       " 54.564634146341454: 'E',\n",
       " 107.92659787234044: 'C',\n",
       " 122.38307846153847: 'B'}"
      ]
     },
     "execution_count": 82,
     "metadata": {},
     "output_type": "execute_result"
    }
   ],
   "source": [
    "cabin_average = {}\n",
    "counter = 0\n",
    "fare = 0\n",
    "\n",
    "for deck in deck_dict:\n",
    "    for n,item in enumerate(both_df['Cabin']):\n",
    "        if pd.notna(item) and item[0] == deck:\n",
    "            counter += 1\n",
    "            fare += both_df.iloc[n]['Fare']    \n",
    "    cabin_average[fare/counter] = deck\n",
    "    counter = 0\n",
    "    fare = 0\n",
    "            \n",
    "cabin_average            "
   ]
  },
  {
   "cell_type": "code",
   "execution_count": 83,
   "metadata": {},
   "outputs": [
    {
     "data": {
      "text/plain": [
       "[122.38307846153847,\n",
       " 107.92659787234044,\n",
       " 41.24431363636364,\n",
       " 18.079366666666665,\n",
       " 54.564634146341454,\n",
       " 53.00733913043479,\n",
       " 35.5,\n",
       " 14.205000000000002]"
      ]
     },
     "execution_count": 83,
     "metadata": {},
     "output_type": "execute_result"
    }
   ],
   "source": [
    "list(cabin_average.keys())"
   ]
  },
  {
   "cell_type": "code",
   "execution_count": 84,
   "metadata": {},
   "outputs": [
    {
     "data": {
      "text/plain": [
       "'F'"
      ]
     },
     "execution_count": 84,
     "metadata": {},
     "output_type": "execute_result"
    }
   ],
   "source": [
    "# Testing this function to get the nearest value from a list (using '18' only for testing)\n",
    "# For every item on that list, lambda function will use 'abs(item-18)' instead of 'item', the choose the lower 'item'\n",
    "cabin_average[min(list(cabin_average.keys()), key=lambda x:abs(x-18))] "
   ]
  },
  {
   "cell_type": "markdown",
   "metadata": {},
   "source": [
    "## Preparing Data"
   ]
  },
  {
   "cell_type": "code",
   "execution_count": 85,
   "metadata": {},
   "outputs": [],
   "source": [
    "def preprocess(df):\n",
    "    \n",
    "    df[\"Family\"] = df[\"Parch\"] + df[\"SibSp\"]\n",
    "    \n",
    "    for n,item in enumerate(df[\"Cabin\"]):\n",
    "        if pd.isna(item):\n",
    "            cabin_key = cabin_average[min(list(cabin_average.keys()), key=lambda x:abs(x-df[\"Fare\"][n]))]\n",
    "            df.at[n,\"Cabin\"] = deck_dict[cabin_key]\n",
    "        else:\n",
    "            df.at[n,\"Cabin\"] = deck_dict[item[0]]\n",
    "\n",
    "    for n,item in enumerate(df[\"Age\"]):\n",
    "        if pd.isna(item):\n",
    "            df.at[n,\"Age\"] = age_by_name[df.iloc[n][\"Name\"].split(\",\")[1].split(\".\")[0].strip(\" \")]\n",
    "            #df.at[n,\"Age\"] = age_mean\n",
    "    \n",
    "    for n,item in enumerate(df[\"Name\"]):\n",
    "        if item.split(\",\")[1].split(\".\")[0].strip(\" \") in names:\n",
    "            df.at[n,\"Name\"] = names[item.split(\",\")[1].split(\".\")[0].strip(\" \")]\n",
    "        else:\n",
    "            df.at[n,\"Name\"] = 0\n",
    "    \n",
    "    for n,item in enumerate(df[\"Sex\"]):\n",
    "        if item == \"male\":\n",
    "            df.at[n,\"Sex\"] = 0 #According documentation, use dt.at[row, 'collumn'] instead df['column'][row]\n",
    "        elif item == \"female\":\n",
    "            df.at[n,\"Sex\"] = 1\n",
    "        else:\n",
    "            df.at[n,\"Sex\"] = 2 #Just in case\n",
    "            \n",
    "    for n,item in enumerate(df[\"Embarked\"]):\n",
    "        if item == \"S\":\n",
    "            df.at[n,\"Embarked\"] = 0 #According documentation, use dt.at[row, 'collumn'] instead df['column'][row]\n",
    "        elif item == \"C\":\n",
    "            df.at[n,\"Embarked\"] = 1\n",
    "        elif item == \"Q\":\n",
    "            df.at[n,\"Embarked\"] = 2 \n",
    "        else:\n",
    "            df.at[n,\"Embarked\"] = 3 #Just in case            \n",
    "            \n",
    "    #An alternative to Embarked:\n",
    "    #df = pd.concat([df,pd.get_dummies(df['Embarked'])], axis=1)\n",
    "    \n",
    "    df = df.drop([\"PassengerId\",\"Ticket\",\"Parch\",\"SibSp\"], axis=1)            \n",
    "    df = df.fillna(0)\n",
    "            \n",
    "    return df"
   ]
  },
  {
   "cell_type": "markdown",
   "metadata": {},
   "source": [
    "## Train/Test Split"
   ]
  },
  {
   "cell_type": "code",
   "execution_count": 86,
   "metadata": {},
   "outputs": [
    {
     "data": {
      "text/html": [
       "<div>\n",
       "<style scoped>\n",
       "    .dataframe tbody tr th:only-of-type {\n",
       "        vertical-align: middle;\n",
       "    }\n",
       "\n",
       "    .dataframe tbody tr th {\n",
       "        vertical-align: top;\n",
       "    }\n",
       "\n",
       "    .dataframe thead th {\n",
       "        text-align: right;\n",
       "    }\n",
       "</style>\n",
       "<table border=\"1\" class=\"dataframe\">\n",
       "  <thead>\n",
       "    <tr style=\"text-align: right;\">\n",
       "      <th></th>\n",
       "      <th>Pclass</th>\n",
       "      <th>Name</th>\n",
       "      <th>Sex</th>\n",
       "      <th>Age</th>\n",
       "      <th>Fare</th>\n",
       "      <th>Cabin</th>\n",
       "      <th>Embarked</th>\n",
       "      <th>Family</th>\n",
       "    </tr>\n",
       "  </thead>\n",
       "  <tbody>\n",
       "    <tr>\n",
       "      <th>0</th>\n",
       "      <td>3</td>\n",
       "      <td>1</td>\n",
       "      <td>0</td>\n",
       "      <td>22.000000</td>\n",
       "      <td>7.2500</td>\n",
       "      <td>8</td>\n",
       "      <td>0</td>\n",
       "      <td>1</td>\n",
       "    </tr>\n",
       "    <tr>\n",
       "      <th>1</th>\n",
       "      <td>1</td>\n",
       "      <td>2</td>\n",
       "      <td>1</td>\n",
       "      <td>38.000000</td>\n",
       "      <td>71.2833</td>\n",
       "      <td>2</td>\n",
       "      <td>1</td>\n",
       "      <td>1</td>\n",
       "    </tr>\n",
       "    <tr>\n",
       "      <th>2</th>\n",
       "      <td>3</td>\n",
       "      <td>3</td>\n",
       "      <td>1</td>\n",
       "      <td>26.000000</td>\n",
       "      <td>7.9250</td>\n",
       "      <td>8</td>\n",
       "      <td>0</td>\n",
       "      <td>0</td>\n",
       "    </tr>\n",
       "    <tr>\n",
       "      <th>3</th>\n",
       "      <td>1</td>\n",
       "      <td>2</td>\n",
       "      <td>1</td>\n",
       "      <td>35.000000</td>\n",
       "      <td>53.1000</td>\n",
       "      <td>2</td>\n",
       "      <td>0</td>\n",
       "      <td>1</td>\n",
       "    </tr>\n",
       "    <tr>\n",
       "      <th>4</th>\n",
       "      <td>3</td>\n",
       "      <td>1</td>\n",
       "      <td>0</td>\n",
       "      <td>35.000000</td>\n",
       "      <td>8.0500</td>\n",
       "      <td>8</td>\n",
       "      <td>0</td>\n",
       "      <td>0</td>\n",
       "    </tr>\n",
       "    <tr>\n",
       "      <th>5</th>\n",
       "      <td>3</td>\n",
       "      <td>1</td>\n",
       "      <td>0</td>\n",
       "      <td>32.252151</td>\n",
       "      <td>8.4583</td>\n",
       "      <td>8</td>\n",
       "      <td>2</td>\n",
       "      <td>0</td>\n",
       "    </tr>\n",
       "    <tr>\n",
       "      <th>6</th>\n",
       "      <td>1</td>\n",
       "      <td>1</td>\n",
       "      <td>0</td>\n",
       "      <td>54.000000</td>\n",
       "      <td>51.8625</td>\n",
       "      <td>5</td>\n",
       "      <td>0</td>\n",
       "      <td>0</td>\n",
       "    </tr>\n",
       "    <tr>\n",
       "      <th>7</th>\n",
       "      <td>3</td>\n",
       "      <td>4</td>\n",
       "      <td>0</td>\n",
       "      <td>2.000000</td>\n",
       "      <td>21.0750</td>\n",
       "      <td>4</td>\n",
       "      <td>0</td>\n",
       "      <td>4</td>\n",
       "    </tr>\n",
       "    <tr>\n",
       "      <th>8</th>\n",
       "      <td>3</td>\n",
       "      <td>2</td>\n",
       "      <td>1</td>\n",
       "      <td>27.000000</td>\n",
       "      <td>11.1333</td>\n",
       "      <td>8</td>\n",
       "      <td>0</td>\n",
       "      <td>2</td>\n",
       "    </tr>\n",
       "    <tr>\n",
       "      <th>9</th>\n",
       "      <td>2</td>\n",
       "      <td>2</td>\n",
       "      <td>1</td>\n",
       "      <td>14.000000</td>\n",
       "      <td>30.0708</td>\n",
       "      <td>7</td>\n",
       "      <td>1</td>\n",
       "      <td>1</td>\n",
       "    </tr>\n",
       "  </tbody>\n",
       "</table>\n",
       "</div>"
      ],
      "text/plain": [
       "   Pclass  Name  Sex        Age     Fare  Cabin  Embarked  Family\n",
       "0       3     1    0  22.000000   7.2500      8         0       1\n",
       "1       1     2    1  38.000000  71.2833      2         1       1\n",
       "2       3     3    1  26.000000   7.9250      8         0       0\n",
       "3       1     2    1  35.000000  53.1000      2         0       1\n",
       "4       3     1    0  35.000000   8.0500      8         0       0\n",
       "5       3     1    0  32.252151   8.4583      8         2       0\n",
       "6       1     1    0  54.000000  51.8625      5         0       0\n",
       "7       3     4    0   2.000000  21.0750      4         0       4\n",
       "8       3     2    1  27.000000  11.1333      8         0       2\n",
       "9       2     2    1  14.000000  30.0708      7         1       1"
      ]
     },
     "execution_count": 86,
     "metadata": {},
     "output_type": "execute_result"
    }
   ],
   "source": [
    "train_df = preprocess(main_df)\n",
    "train_df_feat = train_df.iloc[:,1:]\n",
    "train_df_class = train_df.iloc[:,0]\n",
    "\n",
    "train_df_feat.head(10)"
   ]
  },
  {
   "cell_type": "code",
   "execution_count": 88,
   "metadata": {},
   "outputs": [
    {
     "data": {
      "text/plain": [
       "0    0\n",
       "1    1\n",
       "2    1\n",
       "3    1\n",
       "4    0\n",
       "5    0\n",
       "6    0\n",
       "7    0\n",
       "8    1\n",
       "9    1\n",
       "Name: Survived, dtype: int64"
      ]
     },
     "execution_count": 88,
     "metadata": {},
     "output_type": "execute_result"
    }
   ],
   "source": [
    "train_df_class.head(10)"
   ]
  },
  {
   "cell_type": "code",
   "execution_count": 89,
   "metadata": {},
   "outputs": [
    {
     "data": {
      "text/html": [
       "<div>\n",
       "<style scoped>\n",
       "    .dataframe tbody tr th:only-of-type {\n",
       "        vertical-align: middle;\n",
       "    }\n",
       "\n",
       "    .dataframe tbody tr th {\n",
       "        vertical-align: top;\n",
       "    }\n",
       "\n",
       "    .dataframe thead th {\n",
       "        text-align: right;\n",
       "    }\n",
       "</style>\n",
       "<table border=\"1\" class=\"dataframe\">\n",
       "  <thead>\n",
       "    <tr style=\"text-align: right;\">\n",
       "      <th></th>\n",
       "      <th>Pclass</th>\n",
       "      <th>Name</th>\n",
       "      <th>Sex</th>\n",
       "      <th>Age</th>\n",
       "      <th>Fare</th>\n",
       "      <th>Cabin</th>\n",
       "      <th>Embarked</th>\n",
       "      <th>Family</th>\n",
       "    </tr>\n",
       "  </thead>\n",
       "  <tbody>\n",
       "    <tr>\n",
       "      <th>298</th>\n",
       "      <td>1</td>\n",
       "      <td>1</td>\n",
       "      <td>0</td>\n",
       "      <td>32.252151</td>\n",
       "      <td>30.5000</td>\n",
       "      <td>2</td>\n",
       "      <td>0</td>\n",
       "      <td>0</td>\n",
       "    </tr>\n",
       "    <tr>\n",
       "      <th>392</th>\n",
       "      <td>3</td>\n",
       "      <td>1</td>\n",
       "      <td>0</td>\n",
       "      <td>28.000000</td>\n",
       "      <td>7.9250</td>\n",
       "      <td>8</td>\n",
       "      <td>0</td>\n",
       "      <td>2</td>\n",
       "    </tr>\n",
       "    <tr>\n",
       "      <th>536</th>\n",
       "      <td>1</td>\n",
       "      <td>10</td>\n",
       "      <td>0</td>\n",
       "      <td>45.000000</td>\n",
       "      <td>26.5500</td>\n",
       "      <td>1</td>\n",
       "      <td>0</td>\n",
       "      <td>0</td>\n",
       "    </tr>\n",
       "    <tr>\n",
       "      <th>189</th>\n",
       "      <td>3</td>\n",
       "      <td>1</td>\n",
       "      <td>0</td>\n",
       "      <td>36.000000</td>\n",
       "      <td>7.8958</td>\n",
       "      <td>8</td>\n",
       "      <td>0</td>\n",
       "      <td>0</td>\n",
       "    </tr>\n",
       "    <tr>\n",
       "      <th>674</th>\n",
       "      <td>2</td>\n",
       "      <td>1</td>\n",
       "      <td>0</td>\n",
       "      <td>32.252151</td>\n",
       "      <td>0.0000</td>\n",
       "      <td>8</td>\n",
       "      <td>0</td>\n",
       "      <td>0</td>\n",
       "    </tr>\n",
       "    <tr>\n",
       "      <th>247</th>\n",
       "      <td>2</td>\n",
       "      <td>2</td>\n",
       "      <td>1</td>\n",
       "      <td>24.000000</td>\n",
       "      <td>14.5000</td>\n",
       "      <td>8</td>\n",
       "      <td>0</td>\n",
       "      <td>2</td>\n",
       "    </tr>\n",
       "    <tr>\n",
       "      <th>736</th>\n",
       "      <td>3</td>\n",
       "      <td>2</td>\n",
       "      <td>1</td>\n",
       "      <td>48.000000</td>\n",
       "      <td>34.3750</td>\n",
       "      <td>7</td>\n",
       "      <td>0</td>\n",
       "      <td>4</td>\n",
       "    </tr>\n",
       "    <tr>\n",
       "      <th>98</th>\n",
       "      <td>2</td>\n",
       "      <td>2</td>\n",
       "      <td>1</td>\n",
       "      <td>34.000000</td>\n",
       "      <td>23.0000</td>\n",
       "      <td>4</td>\n",
       "      <td>0</td>\n",
       "      <td>1</td>\n",
       "    </tr>\n",
       "    <tr>\n",
       "      <th>706</th>\n",
       "      <td>2</td>\n",
       "      <td>2</td>\n",
       "      <td>1</td>\n",
       "      <td>45.000000</td>\n",
       "      <td>13.5000</td>\n",
       "      <td>8</td>\n",
       "      <td>0</td>\n",
       "      <td>0</td>\n",
       "    </tr>\n",
       "    <tr>\n",
       "      <th>573</th>\n",
       "      <td>3</td>\n",
       "      <td>3</td>\n",
       "      <td>1</td>\n",
       "      <td>21.774238</td>\n",
       "      <td>7.7500</td>\n",
       "      <td>8</td>\n",
       "      <td>2</td>\n",
       "      <td>0</td>\n",
       "    </tr>\n",
       "  </tbody>\n",
       "</table>\n",
       "</div>"
      ],
      "text/plain": [
       "     Pclass  Name  Sex        Age     Fare  Cabin  Embarked  Family\n",
       "298       1     1    0  32.252151  30.5000      2         0       0\n",
       "392       3     1    0  28.000000   7.9250      8         0       2\n",
       "536       1    10    0  45.000000  26.5500      1         0       0\n",
       "189       3     1    0  36.000000   7.8958      8         0       0\n",
       "674       2     1    0  32.252151   0.0000      8         0       0\n",
       "247       2     2    1  24.000000  14.5000      8         0       2\n",
       "736       3     2    1  48.000000  34.3750      7         0       4\n",
       "98        2     2    1  34.000000  23.0000      4         0       1\n",
       "706       2     2    1  45.000000  13.5000      8         0       0\n",
       "573       3     3    1  21.774238   7.7500      8         2       0"
      ]
     },
     "execution_count": 89,
     "metadata": {},
     "output_type": "execute_result"
    }
   ],
   "source": [
    "from sklearn.model_selection import train_test_split\n",
    "\n",
    "X_train, X_test, y_train, y_test = train_test_split(train_df_feat, train_df_class, test_size=0.05, random_state=101)\n",
    "X_train.head(10)"
   ]
  },
  {
   "cell_type": "code",
   "execution_count": 90,
   "metadata": {},
   "outputs": [
    {
     "data": {
      "text/plain": [
       "298    1\n",
       "392    0\n",
       "536    0\n",
       "189    0\n",
       "674    0\n",
       "247    1\n",
       "736    0\n",
       "98     1\n",
       "706    1\n",
       "573    1\n",
       "Name: Survived, dtype: int64"
      ]
     },
     "execution_count": 90,
     "metadata": {},
     "output_type": "execute_result"
    }
   ],
   "source": [
    "y_train.head(10)"
   ]
  },
  {
   "cell_type": "markdown",
   "metadata": {},
   "source": [
    "## Balancing Data (Over-sampling)"
   ]
  },
  {
   "cell_type": "code",
   "execution_count": 91,
   "metadata": {},
   "outputs": [
    {
     "data": {
      "text/plain": [
       "846"
      ]
     },
     "execution_count": 91,
     "metadata": {},
     "output_type": "execute_result"
    }
   ],
   "source": [
    "len(X_train)"
   ]
  },
  {
   "cell_type": "code",
   "execution_count": 92,
   "metadata": {},
   "outputs": [
    {
     "data": {
      "text/plain": [
       "0.37943262411347517"
      ]
     },
     "execution_count": 92,
     "metadata": {},
     "output_type": "execute_result"
    }
   ],
   "source": [
    "total = len(y_train)\n",
    "survived = list(y_train).count(1)\n",
    "        \n",
    "survived_pct = survived/total\n",
    "survived_pct"
   ]
  },
  {
   "cell_type": "code",
   "execution_count": 93,
   "metadata": {},
   "outputs": [],
   "source": [
    "from imblearn.over_sampling import SMOTE\n",
    "sm = SMOTE(random_state=101)\n",
    "X_train, y_train = sm.fit_resample(X_train, y_train)"
   ]
  },
  {
   "cell_type": "code",
   "execution_count": 94,
   "metadata": {},
   "outputs": [
    {
     "data": {
      "text/plain": [
       "1050"
      ]
     },
     "execution_count": 94,
     "metadata": {},
     "output_type": "execute_result"
    }
   ],
   "source": [
    "len(X_train)"
   ]
  },
  {
   "cell_type": "code",
   "execution_count": 95,
   "metadata": {},
   "outputs": [
    {
     "data": {
      "text/plain": [
       "0.5"
      ]
     },
     "execution_count": 95,
     "metadata": {},
     "output_type": "execute_result"
    }
   ],
   "source": [
    "total = len(y_train)\n",
    "survived = list(y_train).count(1)\n",
    "        \n",
    "survived_pct = survived/total\n",
    "survived_pct"
   ]
  },
  {
   "cell_type": "markdown",
   "metadata": {},
   "source": [
    "## Scaling Data"
   ]
  },
  {
   "cell_type": "code",
   "execution_count": 96,
   "metadata": {},
   "outputs": [
    {
     "data": {
      "text/plain": [
       "array([[0.        , 0.        , 0.        , 0.43261962, 0.05953204,\n",
       "        0.14285714, 0.        , 0.        ],\n",
       "       [1.        , 0.        , 0.        , 0.37483012, 0.01546857,\n",
       "        1.        , 0.        , 0.2       ],\n",
       "       [0.        , 0.5625    , 0.        , 0.60587116, 0.05182215,\n",
       "        0.        , 0.        , 0.        ],\n",
       "       [1.        , 0.        , 0.        , 0.48355531, 0.01541158,\n",
       "        1.        , 0.        , 0.        ],\n",
       "       [0.5       , 0.        , 0.        , 0.43261962, 0.        ,\n",
       "        1.        , 0.        , 0.        ],\n",
       "       [0.5       , 0.0625    , 1.        , 0.32046752, 0.02830212,\n",
       "        1.        , 0.        , 0.2       ],\n",
       "       [1.        , 0.0625    , 1.        , 0.64664311, 0.06709553,\n",
       "        0.85714286, 0.        , 0.4       ],\n",
       "       [0.5       , 0.0625    , 1.        , 0.45637401, 0.04489301,\n",
       "        0.42857143, 0.        , 0.1       ],\n",
       "       [0.5       , 0.0625    , 1.        , 0.60587116, 0.02635025,\n",
       "        1.        , 0.        , 0.        ],\n",
       "       [1.        , 0.125     , 1.        , 0.29021797, 0.01512699,\n",
       "        1.        , 0.66666667, 0.        ]])"
      ]
     },
     "execution_count": 96,
     "metadata": {},
     "output_type": "execute_result"
    }
   ],
   "source": [
    "from sklearn.preprocessing import MinMaxScaler\n",
    "\n",
    "scaler = MinMaxScaler()\n",
    "scaled_X_train = scaler.fit_transform(X_train)\n",
    "scaled_X_test = scaler.transform(X_test)\n",
    "scaled_X_train[:10]"
   ]
  },
  {
   "cell_type": "markdown",
   "metadata": {},
   "source": [
    "## Building Random Forest"
   ]
  },
  {
   "cell_type": "code",
   "execution_count": 97,
   "metadata": {},
   "outputs": [
    {
     "data": {
      "text/plain": [
       "0.9895238095238095"
      ]
     },
     "execution_count": 97,
     "metadata": {},
     "output_type": "execute_result"
    }
   ],
   "source": [
    "from sklearn.ensemble import RandomForestClassifier\n",
    "from sklearn.model_selection import cross_val_score\n",
    "\n",
    "random_forest = RandomForestClassifier(n_estimators=1000, oob_score=True, random_state=101)\n",
    "random_forest.fit(scaled_X_train, y_train)\n",
    "\n",
    "random_forest.score(scaled_X_train, y_train)"
   ]
  },
  {
   "cell_type": "code",
   "execution_count": 98,
   "metadata": {},
   "outputs": [
    {
     "data": {
      "text/plain": [
       "array([0, 1, 0, 1, 0, 0, 0, 0, 1, 1], dtype=int64)"
      ]
     },
     "execution_count": 98,
     "metadata": {},
     "output_type": "execute_result"
    }
   ],
   "source": [
    "prediction = random_forest.predict(scaled_X_test)\n",
    "prediction[:10]"
   ]
  },
  {
   "cell_type": "code",
   "execution_count": 99,
   "metadata": {},
   "outputs": [
    {
     "data": {
      "text/plain": [
       "0.8444444444444444"
      ]
     },
     "execution_count": 99,
     "metadata": {},
     "output_type": "execute_result"
    }
   ],
   "source": [
    "random_forest.score(scaled_X_test, y_test)"
   ]
  },
  {
   "cell_type": "code",
   "execution_count": 100,
   "metadata": {},
   "outputs": [
    {
     "name": "stdout",
     "output_type": "stream",
     "text": [
      "oob score: 85.61999999999999 %\n"
     ]
    }
   ],
   "source": [
    "# Another Metric\n",
    "print(\"oob score:\", round(random_forest.oob_score_, 4)*100, \"%\")"
   ]
  },
  {
   "cell_type": "code",
   "execution_count": 101,
   "metadata": {},
   "outputs": [
    {
     "data": {
      "text/plain": [
       "0.7677163788825409"
      ]
     },
     "execution_count": 101,
     "metadata": {},
     "output_type": "execute_result"
    }
   ],
   "source": [
    "cross_val_score(random_forest, train_df_feat, train_df_class, cv = 3, scoring='precision').mean()"
   ]
  },
  {
   "cell_type": "markdown",
   "metadata": {},
   "source": [
    "## Just checking the Test Score (not necessary)"
   ]
  },
  {
   "cell_type": "code",
   "execution_count": 102,
   "metadata": {},
   "outputs": [
    {
     "data": {
      "text/html": [
       "<div>\n",
       "<style scoped>\n",
       "    .dataframe tbody tr th:only-of-type {\n",
       "        vertical-align: middle;\n",
       "    }\n",
       "\n",
       "    .dataframe tbody tr th {\n",
       "        vertical-align: top;\n",
       "    }\n",
       "\n",
       "    .dataframe thead th {\n",
       "        text-align: right;\n",
       "    }\n",
       "</style>\n",
       "<table border=\"1\" class=\"dataframe\">\n",
       "  <thead>\n",
       "    <tr style=\"text-align: right;\">\n",
       "      <th></th>\n",
       "      <th>Survived</th>\n",
       "      <th>Predicted</th>\n",
       "    </tr>\n",
       "  </thead>\n",
       "  <tbody>\n",
       "    <tr>\n",
       "      <th>331</th>\n",
       "      <td>0</td>\n",
       "      <td>0</td>\n",
       "    </tr>\n",
       "    <tr>\n",
       "      <th>700</th>\n",
       "      <td>1</td>\n",
       "      <td>1</td>\n",
       "    </tr>\n",
       "    <tr>\n",
       "      <th>748</th>\n",
       "      <td>0</td>\n",
       "      <td>0</td>\n",
       "    </tr>\n",
       "    <tr>\n",
       "      <th>751</th>\n",
       "      <td>1</td>\n",
       "      <td>1</td>\n",
       "    </tr>\n",
       "    <tr>\n",
       "      <th>481</th>\n",
       "      <td>0</td>\n",
       "      <td>0</td>\n",
       "    </tr>\n",
       "    <tr>\n",
       "      <th>845</th>\n",
       "      <td>0</td>\n",
       "      <td>0</td>\n",
       "    </tr>\n",
       "    <tr>\n",
       "      <th>740</th>\n",
       "      <td>1</td>\n",
       "      <td>0</td>\n",
       "    </tr>\n",
       "    <tr>\n",
       "      <th>287</th>\n",
       "      <td>0</td>\n",
       "      <td>0</td>\n",
       "    </tr>\n",
       "    <tr>\n",
       "      <th>669</th>\n",
       "      <td>1</td>\n",
       "      <td>1</td>\n",
       "    </tr>\n",
       "    <tr>\n",
       "      <th>241</th>\n",
       "      <td>1</td>\n",
       "      <td>1</td>\n",
       "    </tr>\n",
       "  </tbody>\n",
       "</table>\n",
       "</div>"
      ],
      "text/plain": [
       "     Survived  Predicted\n",
       "331         0          0\n",
       "700         1          1\n",
       "748         0          0\n",
       "751         1          1\n",
       "481         0          0\n",
       "845         0          0\n",
       "740         1          0\n",
       "287         0          0\n",
       "669         1          1\n",
       "241         1          1"
      ]
     },
     "execution_count": 102,
     "metadata": {},
     "output_type": "execute_result"
    }
   ],
   "source": [
    "prediction = pd.DataFrame(prediction, index=y_test.index, columns=['Predicted'])\n",
    "new_df = pd.concat([y_test,prediction],axis=1)\n",
    "new_df.head(10)"
   ]
  },
  {
   "cell_type": "code",
   "execution_count": 103,
   "metadata": {},
   "outputs": [
    {
     "data": {
      "text/html": [
       "<div>\n",
       "<style scoped>\n",
       "    .dataframe tbody tr th:only-of-type {\n",
       "        vertical-align: middle;\n",
       "    }\n",
       "\n",
       "    .dataframe tbody tr th {\n",
       "        vertical-align: top;\n",
       "    }\n",
       "\n",
       "    .dataframe thead th {\n",
       "        text-align: right;\n",
       "    }\n",
       "</style>\n",
       "<table border=\"1\" class=\"dataframe\">\n",
       "  <thead>\n",
       "    <tr style=\"text-align: right;\">\n",
       "      <th></th>\n",
       "      <th>Survived</th>\n",
       "      <th>Predicted</th>\n",
       "      <th>RESULT</th>\n",
       "    </tr>\n",
       "  </thead>\n",
       "  <tbody>\n",
       "    <tr>\n",
       "      <th>331</th>\n",
       "      <td>0</td>\n",
       "      <td>0</td>\n",
       "      <td>1</td>\n",
       "    </tr>\n",
       "    <tr>\n",
       "      <th>700</th>\n",
       "      <td>1</td>\n",
       "      <td>1</td>\n",
       "      <td>1</td>\n",
       "    </tr>\n",
       "    <tr>\n",
       "      <th>748</th>\n",
       "      <td>0</td>\n",
       "      <td>0</td>\n",
       "      <td>1</td>\n",
       "    </tr>\n",
       "    <tr>\n",
       "      <th>751</th>\n",
       "      <td>1</td>\n",
       "      <td>1</td>\n",
       "      <td>1</td>\n",
       "    </tr>\n",
       "    <tr>\n",
       "      <th>481</th>\n",
       "      <td>0</td>\n",
       "      <td>0</td>\n",
       "      <td>1</td>\n",
       "    </tr>\n",
       "    <tr>\n",
       "      <th>845</th>\n",
       "      <td>0</td>\n",
       "      <td>0</td>\n",
       "      <td>1</td>\n",
       "    </tr>\n",
       "    <tr>\n",
       "      <th>740</th>\n",
       "      <td>1</td>\n",
       "      <td>0</td>\n",
       "      <td>0</td>\n",
       "    </tr>\n",
       "    <tr>\n",
       "      <th>287</th>\n",
       "      <td>0</td>\n",
       "      <td>0</td>\n",
       "      <td>1</td>\n",
       "    </tr>\n",
       "    <tr>\n",
       "      <th>669</th>\n",
       "      <td>1</td>\n",
       "      <td>1</td>\n",
       "      <td>1</td>\n",
       "    </tr>\n",
       "    <tr>\n",
       "      <th>241</th>\n",
       "      <td>1</td>\n",
       "      <td>1</td>\n",
       "      <td>1</td>\n",
       "    </tr>\n",
       "  </tbody>\n",
       "</table>\n",
       "</div>"
      ],
      "text/plain": [
       "     Survived  Predicted  RESULT\n",
       "331         0          0       1\n",
       "700         1          1       1\n",
       "748         0          0       1\n",
       "751         1          1       1\n",
       "481         0          0       1\n",
       "845         0          0       1\n",
       "740         1          0       0\n",
       "287         0          0       1\n",
       "669         1          1       1\n",
       "241         1          1       1"
      ]
     },
     "execution_count": 103,
     "metadata": {},
     "output_type": "execute_result"
    }
   ],
   "source": [
    "new_df['RESULT'] = 0\n",
    "\n",
    "for n in new_df.index:\n",
    "    new_df['RESULT'][n] = 1-abs(new_df['Survived'][n] - new_df['Predicted'][n])\n",
    "\n",
    "new_df.head(10)"
   ]
  },
  {
   "cell_type": "code",
   "execution_count": 104,
   "metadata": {},
   "outputs": [
    {
     "data": {
      "text/plain": [
       "0.8444444444444444"
      ]
     },
     "execution_count": 104,
     "metadata": {},
     "output_type": "execute_result"
    }
   ],
   "source": [
    "total = len(new_df)\n",
    "right = 0\n",
    "\n",
    "for n in new_df.index:\n",
    "    if new_df['RESULT'][n]:\n",
    "        right += 1\n",
    "\n",
    "average = right/total\n",
    "average"
   ]
  },
  {
   "cell_type": "markdown",
   "metadata": {},
   "source": [
    "## Hyperparameters tuning"
   ]
  },
  {
   "cell_type": "code",
   "execution_count": 105,
   "metadata": {},
   "outputs": [
    {
     "name": "stdout",
     "output_type": "stream",
     "text": [
      "{'bootstrap': True, 'class_weight': None, 'criterion': 'gini', 'max_depth': None, 'max_features': 'auto', 'max_leaf_nodes': None, 'min_impurity_decrease': 0.0, 'min_impurity_split': None, 'min_samples_leaf': 1, 'min_samples_split': 2, 'min_weight_fraction_leaf': 0.0, 'n_estimators': 1000, 'n_jobs': None, 'oob_score': True, 'random_state': 101, 'verbose': 0, 'warm_start': False}\n"
     ]
    }
   ],
   "source": [
    "print(random_forest.get_params())"
   ]
  },
  {
   "cell_type": "code",
   "execution_count": 106,
   "metadata": {},
   "outputs": [],
   "source": [
    "# The gridsearchcv was returning a better 'oob scores' (based on the training) but worse test scores, \n",
    "# so I decided not to use it.\n",
    "\n",
    "from sklearn.model_selection import GridSearchCV\n",
    "\n",
    "rf = RandomForestClassifier(oob_score=True, random_state=101) # creates a new estimator\n",
    "\n",
    "# Create the parameter grid based on the results of random search \n",
    "param_grid = {\"criterion\" : [\"gini\", \"entropy\"],\n",
    "              'min_samples_leaf': [1, 2, 3, 4],\n",
    "              'min_samples_split': [2, 3, 10],\n",
    "              'n_estimators': [50, 100, 200, 300]}\n",
    "\n",
    "# Instantiate the grid search model\n",
    "grid_search = GridSearchCV(estimator = rf, param_grid = param_grid, cv = 3, n_jobs = -1, verbose = 2, scoring='precision')"
   ]
  },
  {
   "cell_type": "code",
   "execution_count": 107,
   "metadata": {},
   "outputs": [
    {
     "name": "stdout",
     "output_type": "stream",
     "text": [
      "Fitting 3 folds for each of 96 candidates, totalling 288 fits\n"
     ]
    },
    {
     "name": "stderr",
     "output_type": "stream",
     "text": [
      "[Parallel(n_jobs=-1)]: Using backend LokyBackend with 4 concurrent workers.\n",
      "[Parallel(n_jobs=-1)]: Done  33 tasks      | elapsed:    3.3s\n",
      "[Parallel(n_jobs=-1)]: Done 154 tasks      | elapsed:   10.7s\n",
      "[Parallel(n_jobs=-1)]: Done 288 out of 288 | elapsed:   19.6s finished\n"
     ]
    },
    {
     "data": {
      "text/plain": [
       "{'criterion': 'gini',\n",
       " 'min_samples_leaf': 4,\n",
       " 'min_samples_split': 2,\n",
       " 'n_estimators': 50}"
      ]
     },
     "execution_count": 107,
     "metadata": {},
     "output_type": "execute_result"
    }
   ],
   "source": [
    "# Fit the grid search to the data\n",
    "grid_search.fit(scaled_X_train, y_train)\n",
    "grid_search.best_params_"
   ]
  },
  {
   "cell_type": "code",
   "execution_count": 108,
   "metadata": {},
   "outputs": [
    {
     "data": {
      "text/plain": [
       "RandomForestClassifier(bootstrap=True, class_weight=None, criterion='gini',\n",
       "            max_depth=None, max_features='auto', max_leaf_nodes=None,\n",
       "            min_impurity_decrease=0.0, min_impurity_split=None,\n",
       "            min_samples_leaf=4, min_samples_split=2,\n",
       "            min_weight_fraction_leaf=0.0, n_estimators=50, n_jobs=None,\n",
       "            oob_score=True, random_state=101, verbose=0, warm_start=False)"
      ]
     },
     "execution_count": 108,
     "metadata": {},
     "output_type": "execute_result"
    }
   ],
   "source": [
    "best_grid = grid_search.best_estimator_\n",
    "best_grid # Note that it's a classifier"
   ]
  },
  {
   "cell_type": "code",
   "execution_count": 109,
   "metadata": {},
   "outputs": [
    {
     "data": {
      "text/plain": [
       "0.8914285714285715"
      ]
     },
     "execution_count": 109,
     "metadata": {},
     "output_type": "execute_result"
    }
   ],
   "source": [
    "best_grid.fit(scaled_X_train, y_train)\n",
    "best_grid.score(scaled_X_train, y_train)"
   ]
  },
  {
   "cell_type": "code",
   "execution_count": 110,
   "metadata": {},
   "outputs": [
    {
     "data": {
      "text/plain": [
       "0.8444444444444444"
      ]
     },
     "execution_count": 110,
     "metadata": {},
     "output_type": "execute_result"
    }
   ],
   "source": [
    "best_grid.score(scaled_X_test, y_test)"
   ]
  },
  {
   "cell_type": "code",
   "execution_count": 111,
   "metadata": {},
   "outputs": [
    {
     "name": "stdout",
     "output_type": "stream",
     "text": [
      "oob score: 85.81 %\n"
     ]
    }
   ],
   "source": [
    "print(\"oob score:\", round(best_grid.oob_score_, 4)*100, \"%\")"
   ]
  },
  {
   "cell_type": "code",
   "execution_count": 112,
   "metadata": {},
   "outputs": [
    {
     "data": {
      "text/plain": [
       "0.8204121142419015"
      ]
     },
     "execution_count": 112,
     "metadata": {},
     "output_type": "execute_result"
    }
   ],
   "source": [
    "cross_val_score(best_grid, train_df_feat, train_df_class, cv = 3, scoring='precision').mean()"
   ]
  },
  {
   "cell_type": "code",
   "execution_count": 47,
   "metadata": {},
   "outputs": [
    {
     "name": "stdout",
     "output_type": "stream",
     "text": [
      "critery: gini min_leaf: 1 min_split: 2 estimator: 100\n",
      "Train Score: 0.9895238095238095\n",
      "oob Score: 0.8504761904761905\n",
      "Test Score: 0.8444444444444444\n",
      "CV Score: 0.7746945122605147 \n",
      "\n",
      "critery: gini min_leaf: 1 min_split: 2 estimator: 200\n",
      "Train Score: 0.9895238095238095\n",
      "oob Score: 0.8523809523809524\n",
      "Test Score: 0.8222222222222222\n",
      "CV Score: 0.7741822429906543 \n",
      "\n",
      "critery: gini min_leaf: 1 min_split: 2 estimator: 300\n",
      "Train Score: 0.9895238095238095\n",
      "oob Score: 0.8533333333333334\n",
      "Test Score: 0.8444444444444444\n",
      "CV Score: 0.7725178879282408 \n",
      "\n",
      "critery: gini min_leaf: 1 min_split: 2 estimator: 1000\n",
      "Train Score: 0.9895238095238095\n",
      "oob Score: 0.8561904761904762\n",
      "Test Score: 0.8444444444444444\n",
      "CV Score: 0.7677163788825409 \n",
      "\n",
      "critery: gini min_leaf: 1 min_split: 3 estimator: 100\n",
      "Train Score: 0.9771428571428571\n",
      "oob Score: 0.8590476190476191\n",
      "Test Score: 0.8444444444444444\n",
      "CV Score: 0.7870816410842055 \n",
      "\n",
      "critery: gini min_leaf: 1 min_split: 3 estimator: 200\n",
      "Train Score: 0.981904761904762\n",
      "oob Score: 0.8542857142857143\n",
      "Test Score: 0.8222222222222222\n",
      "CV Score: 0.7913338705031358 \n",
      "\n",
      "critery: gini min_leaf: 1 min_split: 3 estimator: 300\n",
      "Train Score: 0.9809523809523809\n",
      "oob Score: 0.8552380952380952\n",
      "Test Score: 0.8222222222222222\n",
      "CV Score: 0.7871773960321592 \n",
      "\n",
      "critery: gini min_leaf: 1 min_split: 3 estimator: 1000\n",
      "Train Score: 0.9828571428571429\n",
      "oob Score: 0.8552380952380952\n",
      "Test Score: 0.8444444444444444\n",
      "CV Score: 0.7944494449444944 \n",
      "\n",
      "critery: gini min_leaf: 1 min_split: 10 estimator: 100\n",
      "Train Score: 0.9247619047619048\n",
      "oob Score: 0.8561904761904762\n",
      "Test Score: 0.8\n",
      "CV Score: 0.8279935417032193 \n",
      "\n",
      "critery: gini min_leaf: 1 min_split: 10 estimator: 200\n",
      "Train Score: 0.9276190476190476\n",
      "oob Score: 0.861904761904762\n",
      "Test Score: 0.8\n",
      "CV Score: 0.8336382005364524 \n",
      "\n",
      "critery: gini min_leaf: 1 min_split: 10 estimator: 300\n",
      "Train Score: 0.9276190476190476\n",
      "oob Score: 0.86\n",
      "Test Score: 0.8\n",
      "CV Score: 0.8275066548358474 \n",
      "\n",
      "critery: gini min_leaf: 1 min_split: 10 estimator: 1000\n",
      "Train Score: 0.9285714285714286\n",
      "oob Score: 0.8647619047619047\n",
      "Test Score: 0.8\n",
      "CV Score: 0.8306532436967219 \n",
      "\n",
      "critery: gini min_leaf: 3 min_split: 2 estimator: 100\n",
      "Train Score: 0.9085714285714286\n",
      "oob Score: 0.8590476190476191\n",
      "Test Score: 0.8\n",
      "CV Score: 0.8308287603770929 \n",
      "\n",
      "critery: gini min_leaf: 3 min_split: 2 estimator: 200\n",
      "Train Score: 0.9104761904761904\n",
      "oob Score: 0.861904761904762\n",
      "Test Score: 0.8\n",
      "CV Score: 0.8285113547234841 \n",
      "\n",
      "critery: gini min_leaf: 3 min_split: 2 estimator: 300\n",
      "Train Score: 0.9085714285714286\n",
      "oob Score: 0.8580952380952381\n",
      "Test Score: 0.8222222222222222\n",
      "CV Score: 0.8265093121289159 \n",
      "\n",
      "critery: gini min_leaf: 3 min_split: 2 estimator: 1000\n",
      "Train Score: 0.9066666666666666\n",
      "oob Score: 0.86\n",
      "Test Score: 0.8\n",
      "CV Score: 0.8279937563797989 \n",
      "\n",
      "critery: gini min_leaf: 3 min_split: 3 estimator: 100\n",
      "Train Score: 0.9085714285714286\n",
      "oob Score: 0.8590476190476191\n",
      "Test Score: 0.8\n",
      "CV Score: 0.8308287603770929 \n",
      "\n",
      "critery: gini min_leaf: 3 min_split: 3 estimator: 200\n",
      "Train Score: 0.9104761904761904\n",
      "oob Score: 0.861904761904762\n",
      "Test Score: 0.8\n",
      "CV Score: 0.8285113547234841 \n",
      "\n",
      "critery: gini min_leaf: 3 min_split: 3 estimator: 300\n",
      "Train Score: 0.9085714285714286\n",
      "oob Score: 0.8580952380952381\n",
      "Test Score: 0.8222222222222222\n",
      "CV Score: 0.8265093121289159 \n",
      "\n",
      "critery: gini min_leaf: 3 min_split: 3 estimator: 1000\n",
      "Train Score: 0.9066666666666666\n",
      "oob Score: 0.86\n",
      "Test Score: 0.8\n",
      "CV Score: 0.8279937563797989 \n",
      "\n",
      "critery: gini min_leaf: 3 min_split: 10 estimator: 100\n",
      "Train Score: 0.8980952380952381\n",
      "oob Score: 0.8580952380952381\n",
      "Test Score: 0.8\n",
      "CV Score: 0.8318019639417763 \n",
      "\n",
      "critery: gini min_leaf: 3 min_split: 10 estimator: 200\n",
      "Train Score: 0.8952380952380953\n",
      "oob Score: 0.8580952380952381\n",
      "Test Score: 0.8\n",
      "CV Score: 0.8367125359878983 \n",
      "\n",
      "critery: gini min_leaf: 3 min_split: 10 estimator: 300\n",
      "Train Score: 0.8961904761904762\n",
      "oob Score: 0.8580952380952381\n",
      "Test Score: 0.8\n",
      "CV Score: 0.8350816962298938 \n",
      "\n",
      "critery: gini min_leaf: 3 min_split: 10 estimator: 1000\n",
      "Train Score: 0.8961904761904762\n",
      "oob Score: 0.86\n",
      "Test Score: 0.8222222222222222\n",
      "CV Score: 0.8323181519529967 \n",
      "\n",
      "critery: gini min_leaf: 4 min_split: 2 estimator: 100\n",
      "Train Score: 0.8942857142857142\n",
      "oob Score: 0.8609523809523809\n",
      "Test Score: 0.8444444444444444\n",
      "CV Score: 0.8350258130281807 \n",
      "\n",
      "critery: gini min_leaf: 4 min_split: 2 estimator: 200\n",
      "Train Score: 0.8914285714285715\n",
      "oob Score: 0.8580952380952381\n",
      "Test Score: 0.8222222222222222\n",
      "CV Score: 0.8324899852414084 \n",
      "\n",
      "critery: gini min_leaf: 4 min_split: 2 estimator: 300\n",
      "Train Score: 0.8923809523809524\n",
      "oob Score: 0.8571428571428571\n",
      "Test Score: 0.8222222222222222\n",
      "CV Score: 0.8339573855667085 \n",
      "\n",
      "critery: gini min_leaf: 4 min_split: 2 estimator: 1000\n",
      "Train Score: 0.8933333333333333\n",
      "oob Score: 0.8580952380952381\n",
      "Test Score: 0.8444444444444444\n",
      "CV Score: 0.8312905145651369 \n",
      "\n",
      "critery: gini min_leaf: 4 min_split: 3 estimator: 100\n",
      "Train Score: 0.8942857142857142\n",
      "oob Score: 0.8609523809523809\n",
      "Test Score: 0.8444444444444444\n",
      "CV Score: 0.8350258130281807 \n",
      "\n",
      "critery: gini min_leaf: 4 min_split: 3 estimator: 200\n",
      "Train Score: 0.8914285714285715\n",
      "oob Score: 0.8580952380952381\n",
      "Test Score: 0.8222222222222222\n",
      "CV Score: 0.8324899852414084 \n",
      "\n",
      "critery: gini min_leaf: 4 min_split: 3 estimator: 300\n",
      "Train Score: 0.8923809523809524\n",
      "oob Score: 0.8571428571428571\n",
      "Test Score: 0.8222222222222222\n",
      "CV Score: 0.8339573855667085 \n",
      "\n",
      "critery: gini min_leaf: 4 min_split: 3 estimator: 1000\n",
      "Train Score: 0.8933333333333333\n",
      "oob Score: 0.8580952380952381\n",
      "Test Score: 0.8444444444444444\n",
      "CV Score: 0.8312905145651369 \n",
      "\n",
      "critery: gini min_leaf: 4 min_split: 10 estimator: 100\n",
      "Train Score: 0.8933333333333333\n",
      "oob Score: 0.8590476190476191\n",
      "Test Score: 0.8444444444444444\n",
      "CV Score: 0.8226627010527139 \n",
      "\n",
      "critery: gini min_leaf: 4 min_split: 10 estimator: 200\n",
      "Train Score: 0.8923809523809524\n",
      "oob Score: 0.8542857142857143\n",
      "Test Score: 0.8444444444444444\n",
      "CV Score: 0.8193743445820036 \n",
      "\n",
      "critery: gini min_leaf: 4 min_split: 10 estimator: 300\n",
      "Train Score: 0.8914285714285715\n",
      "oob Score: 0.8561904761904762\n",
      "Test Score: 0.8444444444444444\n",
      "CV Score: 0.8262858894585111 \n",
      "\n",
      "critery: gini min_leaf: 4 min_split: 10 estimator: 1000\n",
      "Train Score: 0.8895238095238095\n",
      "oob Score: 0.8571428571428571\n",
      "Test Score: 0.8444444444444444\n",
      "CV Score: 0.8283490424478067 \n",
      "\n",
      "critery: gini min_leaf: 5 min_split: 2 estimator: 100\n",
      "Train Score: 0.8914285714285715\n",
      "oob Score: 0.8609523809523809\n",
      "Test Score: 0.8444444444444444\n",
      "CV Score: 0.823901098901099 \n",
      "\n",
      "critery: gini min_leaf: 5 min_split: 2 estimator: 200\n",
      "Train Score: 0.8885714285714286\n",
      "oob Score: 0.8561904761904762\n",
      "Test Score: 0.8444444444444444\n",
      "CV Score: 0.8179288274449564 \n",
      "\n",
      "critery: gini min_leaf: 5 min_split: 2 estimator: 300\n",
      "Train Score: 0.8904761904761904\n",
      "oob Score: 0.8580952380952381\n",
      "Test Score: 0.8444444444444444\n",
      "CV Score: 0.8288258933420224 \n",
      "\n",
      "critery: gini min_leaf: 5 min_split: 2 estimator: 1000\n",
      "Train Score: 0.8895238095238095\n",
      "oob Score: 0.8561904761904762\n",
      "Test Score: 0.8444444444444444\n",
      "CV Score: 0.827766388637658 \n",
      "\n",
      "critery: gini min_leaf: 5 min_split: 3 estimator: 100\n",
      "Train Score: 0.8914285714285715\n",
      "oob Score: 0.8609523809523809\n",
      "Test Score: 0.8444444444444444\n",
      "CV Score: 0.823901098901099 \n",
      "\n",
      "critery: gini min_leaf: 5 min_split: 3 estimator: 200\n",
      "Train Score: 0.8885714285714286\n",
      "oob Score: 0.8561904761904762\n",
      "Test Score: 0.8444444444444444\n",
      "CV Score: 0.8179288274449564 \n",
      "\n",
      "critery: gini min_leaf: 5 min_split: 3 estimator: 300\n",
      "Train Score: 0.8904761904761904\n",
      "oob Score: 0.8580952380952381\n",
      "Test Score: 0.8444444444444444\n",
      "CV Score: 0.8288258933420224 \n",
      "\n",
      "critery: gini min_leaf: 5 min_split: 3 estimator: 1000\n",
      "Train Score: 0.8895238095238095\n",
      "oob Score: 0.8561904761904762\n",
      "Test Score: 0.8444444444444444\n",
      "CV Score: 0.827766388637658 \n",
      "\n",
      "critery: gini min_leaf: 5 min_split: 10 estimator: 100\n",
      "Train Score: 0.8914285714285715\n",
      "oob Score: 0.8609523809523809\n",
      "Test Score: 0.8444444444444444\n",
      "CV Score: 0.823901098901099 \n",
      "\n",
      "critery: gini min_leaf: 5 min_split: 10 estimator: 200\n",
      "Train Score: 0.8885714285714286\n",
      "oob Score: 0.8561904761904762\n",
      "Test Score: 0.8444444444444444\n",
      "CV Score: 0.8179288274449564 \n",
      "\n",
      "critery: gini min_leaf: 5 min_split: 10 estimator: 300\n",
      "Train Score: 0.8904761904761904\n",
      "oob Score: 0.8580952380952381\n",
      "Test Score: 0.8444444444444444\n",
      "CV Score: 0.8288258933420224 \n",
      "\n",
      "critery: gini min_leaf: 5 min_split: 10 estimator: 1000\n",
      "Train Score: 0.8895238095238095\n",
      "oob Score: 0.8561904761904762\n"
     ]
    },
    {
     "name": "stdout",
     "output_type": "stream",
     "text": [
      "Test Score: 0.8444444444444444\n",
      "CV Score: 0.827766388637658 \n",
      "\n",
      "critery: entropy min_leaf: 1 min_split: 2 estimator: 100\n",
      "Train Score: 0.9895238095238095\n",
      "oob Score: 0.8514285714285714\n",
      "Test Score: 0.8222222222222222\n",
      "CV Score: 0.7864282279136302 \n",
      "\n",
      "critery: entropy min_leaf: 1 min_split: 2 estimator: 200\n",
      "Train Score: 0.9895238095238095\n",
      "oob Score: 0.8504761904761905\n",
      "Test Score: 0.8222222222222222\n",
      "CV Score: 0.7879129945961628 \n",
      "\n",
      "critery: entropy min_leaf: 1 min_split: 2 estimator: 300\n",
      "Train Score: 0.9895238095238095\n",
      "oob Score: 0.8504761904761905\n",
      "Test Score: 0.8444444444444444\n",
      "CV Score: 0.7776445483853919 \n",
      "\n",
      "critery: entropy min_leaf: 1 min_split: 2 estimator: 1000\n",
      "Train Score: 0.9895238095238095\n",
      "oob Score: 0.8542857142857143\n",
      "Test Score: 0.8444444444444444\n",
      "CV Score: 0.7782656241814657 \n",
      "\n",
      "critery: entropy min_leaf: 1 min_split: 3 estimator: 100\n",
      "Train Score: 0.98\n",
      "oob Score: 0.8523809523809524\n",
      "Test Score: 0.8\n",
      "CV Score: 0.8011134086965092 \n",
      "\n",
      "critery: entropy min_leaf: 1 min_split: 3 estimator: 200\n",
      "Train Score: 0.9838095238095238\n",
      "oob Score: 0.8533333333333334\n",
      "Test Score: 0.8\n",
      "CV Score: 0.8088656643442121 \n",
      "\n",
      "critery: entropy min_leaf: 1 min_split: 3 estimator: 300\n",
      "Train Score: 0.9857142857142858\n",
      "oob Score: 0.8552380952380952\n",
      "Test Score: 0.8222222222222222\n",
      "CV Score: 0.8004662851606262 \n",
      "\n",
      "critery: entropy min_leaf: 1 min_split: 3 estimator: 1000\n",
      "Train Score: 0.9838095238095238\n",
      "oob Score: 0.8533333333333334\n",
      "Test Score: 0.8222222222222222\n",
      "CV Score: 0.7917962384473741 \n",
      "\n",
      "critery: entropy min_leaf: 1 min_split: 10 estimator: 100\n",
      "Train Score: 0.9295238095238095\n",
      "oob Score: 0.861904761904762\n",
      "Test Score: 0.8222222222222222\n",
      "CV Score: 0.8250057742698536 \n",
      "\n",
      "critery: entropy min_leaf: 1 min_split: 10 estimator: 200\n",
      "Train Score: 0.9314285714285714\n",
      "oob Score: 0.8647619047619047\n",
      "Test Score: 0.8222222222222222\n",
      "CV Score: 0.8333098851036747 \n",
      "\n",
      "critery: entropy min_leaf: 1 min_split: 10 estimator: 300\n",
      "Train Score: 0.9333333333333333\n",
      "oob Score: 0.8666666666666667\n",
      "Test Score: 0.8222222222222222\n",
      "CV Score: 0.8381549609810479 \n",
      "\n",
      "critery: entropy min_leaf: 1 min_split: 10 estimator: 1000\n",
      "Train Score: 0.9314285714285714\n",
      "oob Score: 0.8676190476190476\n",
      "Test Score: 0.8\n",
      "CV Score: 0.8316208295699683 \n",
      "\n",
      "critery: entropy min_leaf: 3 min_split: 2 estimator: 100\n",
      "Train Score: 0.9057142857142857\n",
      "oob Score: 0.8580952380952381\n",
      "Test Score: 0.8\n",
      "CV Score: 0.831424742305383 \n",
      "\n",
      "critery: entropy min_leaf: 3 min_split: 2 estimator: 200\n",
      "Train Score: 0.9057142857142857\n",
      "oob Score: 0.8561904761904762\n",
      "Test Score: 0.8\n",
      "CV Score: 0.8276484937496308 \n",
      "\n",
      "critery: entropy min_leaf: 3 min_split: 2 estimator: 300\n",
      "Train Score: 0.9085714285714286\n",
      "oob Score: 0.8609523809523809\n",
      "Test Score: 0.8\n",
      "CV Score: 0.8261454284187838 \n",
      "\n",
      "critery: entropy min_leaf: 3 min_split: 2 estimator: 1000\n",
      "Train Score: 0.9076190476190477\n",
      "oob Score: 0.8628571428571429\n",
      "Test Score: 0.8\n",
      "CV Score: 0.8285754388017949 \n",
      "\n",
      "critery: entropy min_leaf: 3 min_split: 3 estimator: 100\n",
      "Train Score: 0.9057142857142857\n",
      "oob Score: 0.8580952380952381\n",
      "Test Score: 0.8\n",
      "CV Score: 0.831424742305383 \n",
      "\n",
      "critery: entropy min_leaf: 3 min_split: 3 estimator: 200\n",
      "Train Score: 0.9057142857142857\n",
      "oob Score: 0.8561904761904762\n",
      "Test Score: 0.8\n",
      "CV Score: 0.8276484937496308 \n",
      "\n",
      "critery: entropy min_leaf: 3 min_split: 3 estimator: 300\n",
      "Train Score: 0.9085714285714286\n",
      "oob Score: 0.8609523809523809\n",
      "Test Score: 0.8\n",
      "CV Score: 0.8261454284187838 \n",
      "\n",
      "critery: entropy min_leaf: 3 min_split: 3 estimator: 1000\n",
      "Train Score: 0.9076190476190477\n",
      "oob Score: 0.8628571428571429\n",
      "Test Score: 0.8\n",
      "CV Score: 0.8285754388017949 \n",
      "\n",
      "critery: entropy min_leaf: 3 min_split: 10 estimator: 100\n",
      "Train Score: 0.900952380952381\n",
      "oob Score: 0.8580952380952381\n",
      "Test Score: 0.8444444444444444\n",
      "CV Score: 0.828678813221824 \n",
      "\n",
      "critery: entropy min_leaf: 3 min_split: 10 estimator: 200\n",
      "Train Score: 0.900952380952381\n",
      "oob Score: 0.8590476190476191\n",
      "Test Score: 0.8444444444444444\n",
      "CV Score: 0.8364927651094206 \n",
      "\n",
      "critery: entropy min_leaf: 3 min_split: 10 estimator: 300\n",
      "Train Score: 0.8980952380952381\n",
      "oob Score: 0.8571428571428571\n",
      "Test Score: 0.8444444444444444\n",
      "CV Score: 0.8290890269151139 \n",
      "\n",
      "critery: entropy min_leaf: 3 min_split: 10 estimator: 1000\n",
      "Train Score: 0.8980952380952381\n",
      "oob Score: 0.86\n",
      "Test Score: 0.8222222222222222\n",
      "CV Score: 0.8257102123352319 \n",
      "\n",
      "critery: entropy min_leaf: 4 min_split: 2 estimator: 100\n",
      "Train Score: 0.8961904761904762\n",
      "oob Score: 0.8561904761904762\n",
      "Test Score: 0.8444444444444444\n",
      "CV Score: 0.824270601711475 \n",
      "\n",
      "critery: entropy min_leaf: 4 min_split: 2 estimator: 200\n",
      "Train Score: 0.8933333333333333\n",
      "oob Score: 0.8580952380952381\n",
      "Test Score: 0.8444444444444444\n",
      "CV Score: 0.8277395706473721 \n",
      "\n",
      "critery: entropy min_leaf: 4 min_split: 2 estimator: 300\n",
      "Train Score: 0.8971428571428571\n",
      "oob Score: 0.8552380952380952\n",
      "Test Score: 0.8444444444444444\n",
      "CV Score: 0.8332465544691114 \n",
      "\n",
      "critery: entropy min_leaf: 4 min_split: 2 estimator: 1000\n",
      "Train Score: 0.8961904761904762\n",
      "oob Score: 0.861904761904762\n",
      "Test Score: 0.8444444444444444\n",
      "CV Score: 0.8280247772847175 \n",
      "\n",
      "critery: entropy min_leaf: 4 min_split: 3 estimator: 100\n",
      "Train Score: 0.8961904761904762\n",
      "oob Score: 0.8561904761904762\n",
      "Test Score: 0.8444444444444444\n",
      "CV Score: 0.824270601711475 \n",
      "\n",
      "critery: entropy min_leaf: 4 min_split: 3 estimator: 200\n",
      "Train Score: 0.8933333333333333\n",
      "oob Score: 0.8580952380952381\n",
      "Test Score: 0.8444444444444444\n",
      "CV Score: 0.8277395706473721 \n",
      "\n",
      "critery: entropy min_leaf: 4 min_split: 3 estimator: 300\n",
      "Train Score: 0.8971428571428571\n",
      "oob Score: 0.8552380952380952\n",
      "Test Score: 0.8444444444444444\n",
      "CV Score: 0.8332465544691114 \n",
      "\n",
      "critery: entropy min_leaf: 4 min_split: 3 estimator: 1000\n",
      "Train Score: 0.8961904761904762\n",
      "oob Score: 0.861904761904762\n",
      "Test Score: 0.8444444444444444\n",
      "CV Score: 0.8280247772847175 \n",
      "\n",
      "critery: entropy min_leaf: 4 min_split: 10 estimator: 100\n",
      "Train Score: 0.8914285714285715\n",
      "oob Score: 0.8590476190476191\n",
      "Test Score: 0.8444444444444444\n",
      "CV Score: 0.8257439896036387 \n",
      "\n",
      "critery: entropy min_leaf: 4 min_split: 10 estimator: 200\n",
      "Train Score: 0.8923809523809524\n",
      "oob Score: 0.86\n",
      "Test Score: 0.8444444444444444\n",
      "CV Score: 0.8374017365152865 \n",
      "\n",
      "critery: entropy min_leaf: 4 min_split: 10 estimator: 300\n",
      "Train Score: 0.8914285714285715\n",
      "oob Score: 0.8580952380952381\n",
      "Test Score: 0.8444444444444444\n",
      "CV Score: 0.8328781069202691 \n",
      "\n",
      "critery: entropy min_leaf: 4 min_split: 10 estimator: 1000\n",
      "Train Score: 0.8942857142857142\n",
      "oob Score: 0.861904761904762\n",
      "Test Score: 0.8444444444444444\n",
      "CV Score: 0.8237021662556785 \n",
      "\n",
      "critery: entropy min_leaf: 5 min_split: 2 estimator: 100\n",
      "Train Score: 0.8933333333333333\n",
      "oob Score: 0.8571428571428571\n",
      "Test Score: 0.8222222222222222\n",
      "CV Score: 0.8239484126984128 \n",
      "\n",
      "critery: entropy min_leaf: 5 min_split: 2 estimator: 200\n",
      "Train Score: 0.8923809523809524\n",
      "oob Score: 0.8571428571428571\n",
      "Test Score: 0.8222222222222222\n",
      "CV Score: 0.8183377753270227 \n",
      "\n",
      "critery: entropy min_leaf: 5 min_split: 2 estimator: 300\n",
      "Train Score: 0.8933333333333333\n",
      "oob Score: 0.8561904761904762\n",
      "Test Score: 0.8222222222222222\n",
      "CV Score: 0.8241622486164951 \n",
      "\n",
      "critery: entropy min_leaf: 5 min_split: 2 estimator: 1000\n",
      "Train Score: 0.8895238095238095\n",
      "oob Score: 0.8580952380952381\n",
      "Test Score: 0.8444444444444444\n",
      "CV Score: 0.8222612650641355 \n",
      "\n",
      "critery: entropy min_leaf: 5 min_split: 3 estimator: 100\n",
      "Train Score: 0.8933333333333333\n",
      "oob Score: 0.8571428571428571\n",
      "Test Score: 0.8222222222222222\n",
      "CV Score: 0.8239484126984128 \n",
      "\n",
      "critery: entropy min_leaf: 5 min_split: 3 estimator: 200\n",
      "Train Score: 0.8923809523809524\n",
      "oob Score: 0.8571428571428571\n",
      "Test Score: 0.8222222222222222\n",
      "CV Score: 0.8183377753270227 \n",
      "\n",
      "critery: entropy min_leaf: 5 min_split: 3 estimator: 300\n",
      "Train Score: 0.8933333333333333\n",
      "oob Score: 0.8561904761904762\n",
      "Test Score: 0.8222222222222222\n",
      "CV Score: 0.8241622486164951 \n",
      "\n",
      "critery: entropy min_leaf: 5 min_split: 3 estimator: 1000\n",
      "Train Score: 0.8895238095238095\n",
      "oob Score: 0.8580952380952381\n",
      "Test Score: 0.8444444444444444\n",
      "CV Score: 0.8222612650641355 \n",
      "\n",
      "critery: entropy min_leaf: 5 min_split: 10 estimator: 100\n",
      "Train Score: 0.8933333333333333\n",
      "oob Score: 0.8571428571428571\n",
      "Test Score: 0.8222222222222222\n",
      "CV Score: 0.8239484126984128 \n",
      "\n",
      "critery: entropy min_leaf: 5 min_split: 10 estimator: 200\n",
      "Train Score: 0.8923809523809524\n",
      "oob Score: 0.8571428571428571\n",
      "Test Score: 0.8222222222222222\n",
      "CV Score: 0.8183377753270227 \n",
      "\n"
     ]
    },
    {
     "name": "stdout",
     "output_type": "stream",
     "text": [
      "critery: entropy min_leaf: 5 min_split: 10 estimator: 300\n",
      "Train Score: 0.8933333333333333\n",
      "oob Score: 0.8561904761904762\n",
      "Test Score: 0.8222222222222222\n",
      "CV Score: 0.8241622486164951 \n",
      "\n",
      "critery: entropy min_leaf: 5 min_split: 10 estimator: 1000\n",
      "Train Score: 0.8895238095238095\n",
      "oob Score: 0.8580952380952381\n",
      "Test Score: 0.8444444444444444\n",
      "CV Score: 0.8222612650641355 \n",
      "\n"
     ]
    }
   ],
   "source": [
    "# A manually way to pick-up the hyperparameters for the best test scores\n",
    "\n",
    "for critery in [\"gini\", \"entropy\"]:\n",
    "    for min_leaf in [1, 3, 4,5]:\n",
    "        for min_split in [2, 3, 10]:\n",
    "            for estimator in [100, 200, 300, 1000]:\n",
    "\n",
    "                rf2 = RandomForestClassifier(criterion=critery,\n",
    "                                             min_samples_leaf=min_leaf,\n",
    "                                             min_samples_split=min_split,\n",
    "                                             n_estimators=estimator,\n",
    "                                             oob_score=True, \n",
    "                                             random_state=101) # creates a new estimator\n",
    "                rf2.fit(scaled_X_train, y_train)\n",
    "\n",
    "                print('critery:', critery,\n",
    "                      'min_leaf:', min_leaf,\n",
    "                      'min_split:', min_split,\n",
    "                      'estimator:', estimator)\n",
    "                print('Train Score:',rf2.score(scaled_X_train, y_train))\n",
    "                print('oob Score:',rf2.oob_score_)\n",
    "                print('Test Score:',rf2.score(scaled_X_test, y_test))\n",
    "                print('CV Score:',\n",
    "                      cross_val_score(rf2, train_df_feat, train_df_class, cv = 3, scoring='precision').mean(),\n",
    "                      '\\n')"
   ]
  },
  {
   "cell_type": "markdown",
   "metadata": {},
   "source": [
    "###### *As a suggestion, you can use the AdaBoostClassifier or GradientBoostingClassifier, but the results were worse for this problem.*"
   ]
  },
  {
   "cell_type": "code",
   "execution_count": 113,
   "metadata": {},
   "outputs": [
    {
     "data": {
      "text/plain": [
       "0.8444444444444444"
      ]
     },
     "execution_count": 113,
     "metadata": {},
     "output_type": "execute_result"
    }
   ],
   "source": [
    "# Best result => 'critery: gini min_leaf: 4 min_split: 3 estimator: 100'\n",
    "rf_final = RandomForestClassifier(criterion='gini', min_samples_leaf=4, min_samples_split=3, \n",
    "                                  n_estimators=100, oob_score=True, random_state=101)\n",
    "rf_final.fit(scaled_X_train, y_train)\n",
    "rf_final.score(scaled_X_test, y_test)"
   ]
  },
  {
   "cell_type": "code",
   "execution_count": 114,
   "metadata": {},
   "outputs": [
    {
     "data": {
      "text/plain": [
       "0.8350258130281807"
      ]
     },
     "execution_count": 114,
     "metadata": {},
     "output_type": "execute_result"
    }
   ],
   "source": [
    "cross_val_score(rf_final, train_df_feat, train_df_class, cv = 3, scoring='precision').mean()"
   ]
  },
  {
   "cell_type": "markdown",
   "metadata": {},
   "source": [
    "## Checking importances"
   ]
  },
  {
   "cell_type": "code",
   "execution_count": 115,
   "metadata": {},
   "outputs": [
    {
     "data": {
      "text/plain": [
       "Index(['Survived', 'Pclass', 'Name', 'Sex', 'Age', 'Fare', 'Cabin', 'Embarked',\n",
       "       'Family'],\n",
       "      dtype='object')"
      ]
     },
     "execution_count": 115,
     "metadata": {},
     "output_type": "execute_result"
    }
   ],
   "source": [
    "train_df.columns"
   ]
  },
  {
   "cell_type": "code",
   "execution_count": 116,
   "metadata": {},
   "outputs": [
    {
     "data": {
      "text/plain": [
       "array([0.08877824, 0.29259913, 0.22177443, 0.09905205, 0.13856084,\n",
       "       0.06099533, 0.0288817 , 0.06935829])"
      ]
     },
     "execution_count": 116,
     "metadata": {},
     "output_type": "execute_result"
    }
   ],
   "source": [
    "rf_final.feature_importances_"
   ]
  },
  {
   "cell_type": "code",
   "execution_count": 117,
   "metadata": {},
   "outputs": [
    {
     "data": {
      "text/html": [
       "<div>\n",
       "<style scoped>\n",
       "    .dataframe tbody tr th:only-of-type {\n",
       "        vertical-align: middle;\n",
       "    }\n",
       "\n",
       "    .dataframe tbody tr th {\n",
       "        vertical-align: top;\n",
       "    }\n",
       "\n",
       "    .dataframe thead th {\n",
       "        text-align: right;\n",
       "    }\n",
       "</style>\n",
       "<table border=\"1\" class=\"dataframe\">\n",
       "  <thead>\n",
       "    <tr style=\"text-align: right;\">\n",
       "      <th></th>\n",
       "      <th>importance</th>\n",
       "    </tr>\n",
       "    <tr>\n",
       "      <th>feature</th>\n",
       "      <th></th>\n",
       "    </tr>\n",
       "  </thead>\n",
       "  <tbody>\n",
       "    <tr>\n",
       "      <th>Name</th>\n",
       "      <td>0.293</td>\n",
       "    </tr>\n",
       "    <tr>\n",
       "      <th>Sex</th>\n",
       "      <td>0.222</td>\n",
       "    </tr>\n",
       "    <tr>\n",
       "      <th>Fare</th>\n",
       "      <td>0.139</td>\n",
       "    </tr>\n",
       "    <tr>\n",
       "      <th>Age</th>\n",
       "      <td>0.099</td>\n",
       "    </tr>\n",
       "    <tr>\n",
       "      <th>Pclass</th>\n",
       "      <td>0.089</td>\n",
       "    </tr>\n",
       "    <tr>\n",
       "      <th>Family</th>\n",
       "      <td>0.069</td>\n",
       "    </tr>\n",
       "    <tr>\n",
       "      <th>Cabin</th>\n",
       "      <td>0.061</td>\n",
       "    </tr>\n",
       "    <tr>\n",
       "      <th>Embarked</th>\n",
       "      <td>0.029</td>\n",
       "    </tr>\n",
       "  </tbody>\n",
       "</table>\n",
       "</div>"
      ],
      "text/plain": [
       "          importance\n",
       "feature             \n",
       "Name           0.293\n",
       "Sex            0.222\n",
       "Fare           0.139\n",
       "Age            0.099\n",
       "Pclass         0.089\n",
       "Family         0.069\n",
       "Cabin          0.061\n",
       "Embarked       0.029"
      ]
     },
     "execution_count": 117,
     "metadata": {},
     "output_type": "execute_result"
    }
   ],
   "source": [
    "import numpy as np\n",
    "\n",
    "importances = pd.DataFrame({'feature':train_df_feat.columns,'importance':np.round(rf_final.feature_importances_,3)})\n",
    "importances = importances.sort_values('importance',ascending=False).set_index('feature')\n",
    "importances.head(15)"
   ]
  },
  {
   "cell_type": "code",
   "execution_count": 118,
   "metadata": {},
   "outputs": [
    {
     "data": {
      "text/plain": [
       "<matplotlib.axes._subplots.AxesSubplot at 0x2751f3514e0>"
      ]
     },
     "execution_count": 118,
     "metadata": {},
     "output_type": "execute_result"
    },
    {
     "data": {
      "image/png": "[encoded data removed]",
      "text/plain": [
       "<matplotlib.figure.Figure at 0x2751f3afb00>"
      ]
     },
     "metadata": {},
     "output_type": "display_data"
    }
   ],
   "source": [
    "%matplotlib inline\n",
    "\n",
    "importances.plot.bar()"
   ]
  },
  {
   "cell_type": "markdown",
   "metadata": {},
   "source": [
    "## Final Prediction"
   ]
  },
  {
   "cell_type": "code",
   "execution_count": 119,
   "metadata": {},
   "outputs": [
    {
     "data": {
      "text/html": [
       "<div>\n",
       "<style scoped>\n",
       "    .dataframe tbody tr th:only-of-type {\n",
       "        vertical-align: middle;\n",
       "    }\n",
       "\n",
       "    .dataframe tbody tr th {\n",
       "        vertical-align: top;\n",
       "    }\n",
       "\n",
       "    .dataframe thead th {\n",
       "        text-align: right;\n",
       "    }\n",
       "</style>\n",
       "<table border=\"1\" class=\"dataframe\">\n",
       "  <thead>\n",
       "    <tr style=\"text-align: right;\">\n",
       "      <th></th>\n",
       "      <th>Pclass</th>\n",
       "      <th>Name</th>\n",
       "      <th>Sex</th>\n",
       "      <th>Age</th>\n",
       "      <th>Fare</th>\n",
       "      <th>Cabin</th>\n",
       "      <th>Embarked</th>\n",
       "      <th>Family</th>\n",
       "    </tr>\n",
       "  </thead>\n",
       "  <tbody>\n",
       "    <tr>\n",
       "      <th>0</th>\n",
       "      <td>3</td>\n",
       "      <td>1</td>\n",
       "      <td>0</td>\n",
       "      <td>34.5</td>\n",
       "      <td>7.8292</td>\n",
       "      <td>8</td>\n",
       "      <td>2</td>\n",
       "      <td>0</td>\n",
       "    </tr>\n",
       "    <tr>\n",
       "      <th>1</th>\n",
       "      <td>3</td>\n",
       "      <td>2</td>\n",
       "      <td>1</td>\n",
       "      <td>47.0</td>\n",
       "      <td>7.0000</td>\n",
       "      <td>8</td>\n",
       "      <td>0</td>\n",
       "      <td>1</td>\n",
       "    </tr>\n",
       "    <tr>\n",
       "      <th>2</th>\n",
       "      <td>2</td>\n",
       "      <td>1</td>\n",
       "      <td>0</td>\n",
       "      <td>62.0</td>\n",
       "      <td>9.6875</td>\n",
       "      <td>8</td>\n",
       "      <td>2</td>\n",
       "      <td>0</td>\n",
       "    </tr>\n",
       "    <tr>\n",
       "      <th>3</th>\n",
       "      <td>3</td>\n",
       "      <td>1</td>\n",
       "      <td>0</td>\n",
       "      <td>27.0</td>\n",
       "      <td>8.6625</td>\n",
       "      <td>8</td>\n",
       "      <td>0</td>\n",
       "      <td>0</td>\n",
       "    </tr>\n",
       "    <tr>\n",
       "      <th>4</th>\n",
       "      <td>3</td>\n",
       "      <td>2</td>\n",
       "      <td>1</td>\n",
       "      <td>22.0</td>\n",
       "      <td>12.2875</td>\n",
       "      <td>8</td>\n",
       "      <td>0</td>\n",
       "      <td>2</td>\n",
       "    </tr>\n",
       "    <tr>\n",
       "      <th>5</th>\n",
       "      <td>3</td>\n",
       "      <td>1</td>\n",
       "      <td>0</td>\n",
       "      <td>14.0</td>\n",
       "      <td>9.2250</td>\n",
       "      <td>8</td>\n",
       "      <td>0</td>\n",
       "      <td>0</td>\n",
       "    </tr>\n",
       "    <tr>\n",
       "      <th>6</th>\n",
       "      <td>3</td>\n",
       "      <td>3</td>\n",
       "      <td>1</td>\n",
       "      <td>30.0</td>\n",
       "      <td>7.6292</td>\n",
       "      <td>8</td>\n",
       "      <td>2</td>\n",
       "      <td>0</td>\n",
       "    </tr>\n",
       "    <tr>\n",
       "      <th>7</th>\n",
       "      <td>2</td>\n",
       "      <td>1</td>\n",
       "      <td>0</td>\n",
       "      <td>26.0</td>\n",
       "      <td>29.0000</td>\n",
       "      <td>7</td>\n",
       "      <td>0</td>\n",
       "      <td>2</td>\n",
       "    </tr>\n",
       "    <tr>\n",
       "      <th>8</th>\n",
       "      <td>3</td>\n",
       "      <td>2</td>\n",
       "      <td>1</td>\n",
       "      <td>18.0</td>\n",
       "      <td>7.2292</td>\n",
       "      <td>8</td>\n",
       "      <td>1</td>\n",
       "      <td>0</td>\n",
       "    </tr>\n",
       "    <tr>\n",
       "      <th>9</th>\n",
       "      <td>3</td>\n",
       "      <td>1</td>\n",
       "      <td>0</td>\n",
       "      <td>21.0</td>\n",
       "      <td>24.1500</td>\n",
       "      <td>4</td>\n",
       "      <td>0</td>\n",
       "      <td>2</td>\n",
       "    </tr>\n",
       "  </tbody>\n",
       "</table>\n",
       "</div>"
      ],
      "text/plain": [
       "   Pclass  Name  Sex   Age     Fare  Cabin  Embarked  Family\n",
       "0       3     1    0  34.5   7.8292      8         2       0\n",
       "1       3     2    1  47.0   7.0000      8         0       1\n",
       "2       2     1    0  62.0   9.6875      8         2       0\n",
       "3       3     1    0  27.0   8.6625      8         0       0\n",
       "4       3     2    1  22.0  12.2875      8         0       2\n",
       "5       3     1    0  14.0   9.2250      8         0       0\n",
       "6       3     3    1  30.0   7.6292      8         2       0\n",
       "7       2     1    0  26.0  29.0000      7         0       2\n",
       "8       3     2    1  18.0   7.2292      8         1       0\n",
       "9       3     1    0  21.0  24.1500      4         0       2"
      ]
     },
     "execution_count": 119,
     "metadata": {},
     "output_type": "execute_result"
    }
   ],
   "source": [
    "submission_df = preprocess(final_df)\n",
    "submission_df.head(10)"
   ]
  },
  {
   "cell_type": "code",
   "execution_count": 120,
   "metadata": {},
   "outputs": [
    {
     "data": {
      "text/plain": [
       "array([[1.        , 0.        , 0.        , ..., 1.        , 0.66666667,\n",
       "        0.        ],\n",
       "       [1.        , 0.0625    , 1.        , ..., 1.        , 0.        ,\n",
       "        0.1       ],\n",
       "       [0.5       , 0.        , 0.        , ..., 1.        , 0.66666667,\n",
       "        0.        ],\n",
       "       ...,\n",
       "       [1.        , 0.        , 0.        , ..., 1.        , 0.        ,\n",
       "        0.        ],\n",
       "       [1.        , 0.        , 0.        , ..., 1.        , 0.        ,\n",
       "        0.        ],\n",
       "       [1.        , 0.1875    , 0.        , ..., 0.42857143, 0.33333333,\n",
       "        0.2       ]])"
      ]
     },
     "execution_count": 120,
     "metadata": {},
     "output_type": "execute_result"
    }
   ],
   "source": [
    "scaled_X_final = scaler.transform(submission_df)\n",
    "scaled_X_final"
   ]
  },
  {
   "cell_type": "code",
   "execution_count": 125,
   "metadata": {},
   "outputs": [
    {
     "data": {
      "text/plain": [
       "array([0, 0, 0, 0, 1, 0, 1, 0, 1, 0, 0, 0, 1, 0, 1, 1, 0, 0, 0, 1, 0, 1,\n",
       "       1, 0, 1, 0, 1, 0, 0, 0, 0, 0, 1, 0, 0, 0, 0, 0, 0, 1, 0, 1, 0, 1,\n",
       "       1, 0, 0, 0, 1, 1, 0, 0, 1, 1, 0, 0, 0, 0, 0, 1, 0, 0, 0, 1, 1, 1,\n",
       "       1, 0, 0, 1, 1, 0, 0, 0, 1, 0, 0, 1, 0, 1, 1, 0, 0, 0, 0, 0, 1, 1,\n",
       "       1, 1, 1, 0, 1, 0, 0, 0, 1, 0, 1, 0, 1, 0, 0, 0, 1, 0, 0, 0, 0, 0,\n",
       "       0, 1, 1, 1, 1, 0, 0, 1, 0, 1, 1, 0, 1, 0, 0, 1, 0, 1, 0, 0, 0, 1,\n",
       "       0, 0, 0, 0, 0, 0, 0, 0, 0, 1, 0, 0, 1, 0, 0, 0, 1, 1, 1, 0, 0, 1,\n",
       "       0, 0, 1, 1, 1, 1, 1, 1, 1, 0, 0, 1, 0, 0, 1, 0, 0, 0, 0, 0, 0, 1,\n",
       "       1, 0, 1, 1, 0, 0, 1, 0, 1, 0, 1, 0, 0, 0, 0, 0, 1, 0, 1, 0, 1, 1,\n",
       "       0, 1, 1, 1, 1, 1, 0, 0, 1, 0, 1, 0, 0, 0, 0, 1, 0, 0, 1, 0, 1, 0,\n",
       "       1, 0, 1, 0, 1, 0, 0, 1, 0, 0, 0, 1, 0, 0, 0, 0, 0, 0, 1, 1, 1, 1,\n",
       "       0, 0, 1, 0, 1, 0, 1, 0, 1, 0, 0, 0, 0, 0, 0, 0, 1, 0, 0, 0, 1, 1,\n",
       "       0, 0, 0, 0, 0, 0, 0, 0, 1, 1, 0, 1, 0, 0, 0, 0, 0, 1, 1, 1, 1, 0,\n",
       "       0, 0, 0, 0, 0, 1, 0, 1, 0, 0, 1, 0, 0, 0, 0, 0, 0, 0, 1, 1, 0, 1,\n",
       "       0, 0, 0, 0, 0, 1, 1, 1, 0, 0, 0, 0, 0, 0, 0, 1, 1, 0, 1, 0, 0, 0,\n",
       "       1, 0, 0, 1, 0, 0, 0, 0, 0, 1, 0, 0, 0, 1, 1, 1, 0, 1, 0, 1, 1, 0,\n",
       "       0, 0, 1, 0, 1, 0, 0, 1, 0, 1, 1, 0, 1, 0, 0, 0, 1, 0, 0, 1, 0, 0,\n",
       "       1, 1, 0, 0, 0, 0, 0, 0, 1, 1, 0, 1, 0, 0, 0, 0, 0, 1, 1, 0, 0, 1,\n",
       "       0, 1, 0, 0, 1, 0, 1, 0, 0, 0, 0, 0, 1, 1, 1, 1, 0, 0, 1, 0, 0, 1],\n",
       "      dtype=int64)"
      ]
     },
     "execution_count": 125,
     "metadata": {},
     "output_type": "execute_result"
    }
   ],
   "source": [
    "final_prediction = rf_final.predict(scaled_X_final)\n",
    "final_prediction"
   ]
  },
  {
   "cell_type": "code",
   "execution_count": 126,
   "metadata": {},
   "outputs": [
    {
     "data": {
      "text/html": [
       "<div>\n",
       "<style scoped>\n",
       "    .dataframe tbody tr th:only-of-type {\n",
       "        vertical-align: middle;\n",
       "    }\n",
       "\n",
       "    .dataframe tbody tr th {\n",
       "        vertical-align: top;\n",
       "    }\n",
       "\n",
       "    .dataframe thead th {\n",
       "        text-align: right;\n",
       "    }\n",
       "</style>\n",
       "<table border=\"1\" class=\"dataframe\">\n",
       "  <thead>\n",
       "    <tr style=\"text-align: right;\">\n",
       "      <th></th>\n",
       "      <th>PassengerId</th>\n",
       "      <th>Survived</th>\n",
       "    </tr>\n",
       "  </thead>\n",
       "  <tbody>\n",
       "    <tr>\n",
       "      <th>0</th>\n",
       "      <td>892</td>\n",
       "      <td>0</td>\n",
       "    </tr>\n",
       "    <tr>\n",
       "      <th>1</th>\n",
       "      <td>893</td>\n",
       "      <td>0</td>\n",
       "    </tr>\n",
       "    <tr>\n",
       "      <th>2</th>\n",
       "      <td>894</td>\n",
       "      <td>0</td>\n",
       "    </tr>\n",
       "    <tr>\n",
       "      <th>3</th>\n",
       "      <td>895</td>\n",
       "      <td>0</td>\n",
       "    </tr>\n",
       "    <tr>\n",
       "      <th>4</th>\n",
       "      <td>896</td>\n",
       "      <td>1</td>\n",
       "    </tr>\n",
       "    <tr>\n",
       "      <th>5</th>\n",
       "      <td>897</td>\n",
       "      <td>0</td>\n",
       "    </tr>\n",
       "    <tr>\n",
       "      <th>6</th>\n",
       "      <td>898</td>\n",
       "      <td>1</td>\n",
       "    </tr>\n",
       "    <tr>\n",
       "      <th>7</th>\n",
       "      <td>899</td>\n",
       "      <td>0</td>\n",
       "    </tr>\n",
       "    <tr>\n",
       "      <th>8</th>\n",
       "      <td>900</td>\n",
       "      <td>1</td>\n",
       "    </tr>\n",
       "    <tr>\n",
       "      <th>9</th>\n",
       "      <td>901</td>\n",
       "      <td>0</td>\n",
       "    </tr>\n",
       "  </tbody>\n",
       "</table>\n",
       "</div>"
      ],
      "text/plain": [
       "   PassengerId  Survived\n",
       "0          892         0\n",
       "1          893         0\n",
       "2          894         0\n",
       "3          895         0\n",
       "4          896         1\n",
       "5          897         0\n",
       "6          898         1\n",
       "7          899         0\n",
       "8          900         1\n",
       "9          901         0"
      ]
     },
     "execution_count": 126,
     "metadata": {},
     "output_type": "execute_result"
    }
   ],
   "source": [
    "final = pd.concat([final_df['PassengerId'],pd.DataFrame(final_prediction, columns=['Survived'])], axis=1)\n",
    "final.head(10)"
   ]
  },
  {
   "cell_type": "code",
   "execution_count": 127,
   "metadata": {},
   "outputs": [],
   "source": [
    "with open('submission.csv','w') as csv_file:\n",
    "    csv_file.write('PassengerId,Survived\\n')\n",
    "    \n",
    "    for index,row in final.iterrows():\n",
    "        text = str(row['PassengerId'])+','+str(row['Survived'])\n",
    "        csv_file.write(text+'\\n')"
   ]
  },
  {
   "cell_type": "code",
   "execution_count": null,
   "metadata": {},
   "outputs": [],
   "source": []
  }
 ],
 "metadata": {
  "kernelspec": {
   "display_name": "Python 3",
   "language": "python",
   "name": "python3"
  },
  "language_info": {
   "codemirror_mode": {
    "name": "ipython",
    "version": 3
   },
   "file_extension": ".py",
   "mimetype": "text/x-python",
   "name": "python",
   "nbconvert_exporter": "python",
   "pygments_lexer": "ipython3",
   "version": "3.6.8"
  }
 },
 "nbformat": 4,
 "nbformat_minor": 2
}
